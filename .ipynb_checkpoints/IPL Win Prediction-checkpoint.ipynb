{
 "cells": [
  {
   "cell_type": "code",
   "execution_count": 174,
   "id": "5b9031fd",
   "metadata": {},
   "outputs": [],
   "source": [
    "import pandas as pd\n",
    "import numpy as np\n",
    "import matplotlib.pyplot as plt\n",
    "from sklearn.preprocessing import LabelEncoder\n",
    "import seaborn as sns"
   ]
  },
  {
   "cell_type": "code",
   "execution_count": 175,
   "id": "3886bd3f",
   "metadata": {},
   "outputs": [],
   "source": [
    "df=pd.read_csv(\"C:\\\\Users\\\\User\\\\Desktop\\\\Data-Science\\\\Dataset\\\\IPL Dataset\\\\IPL_Matches_2008_2022.csv\")"
   ]
  },
  {
   "cell_type": "code",
   "execution_count": 176,
   "id": "dcc0dbf7",
   "metadata": {},
   "outputs": [
    {
     "data": {
      "text/html": [
       "<div>\n",
       "<style scoped>\n",
       "    .dataframe tbody tr th:only-of-type {\n",
       "        vertical-align: middle;\n",
       "    }\n",
       "\n",
       "    .dataframe tbody tr th {\n",
       "        vertical-align: top;\n",
       "    }\n",
       "\n",
       "    .dataframe thead th {\n",
       "        text-align: right;\n",
       "    }\n",
       "</style>\n",
       "<table border=\"1\" class=\"dataframe\">\n",
       "  <thead>\n",
       "    <tr style=\"text-align: right;\">\n",
       "      <th></th>\n",
       "      <th>ID</th>\n",
       "      <th>City</th>\n",
       "      <th>Date</th>\n",
       "      <th>Season</th>\n",
       "      <th>MatchNumber</th>\n",
       "      <th>Team1</th>\n",
       "      <th>Team2</th>\n",
       "      <th>Venue</th>\n",
       "      <th>TossWinner</th>\n",
       "      <th>TossDecision</th>\n",
       "      <th>SuperOver</th>\n",
       "      <th>WinningTeam</th>\n",
       "      <th>WonBy</th>\n",
       "      <th>Margin</th>\n",
       "      <th>method</th>\n",
       "      <th>Player_of_Match</th>\n",
       "      <th>Team1Players</th>\n",
       "      <th>Team2Players</th>\n",
       "      <th>Umpire1</th>\n",
       "      <th>Umpire2</th>\n",
       "    </tr>\n",
       "  </thead>\n",
       "  <tbody>\n",
       "    <tr>\n",
       "      <th>0</th>\n",
       "      <td>1312200</td>\n",
       "      <td>Ahmedabad</td>\n",
       "      <td>2022-05-29</td>\n",
       "      <td>2022</td>\n",
       "      <td>Final</td>\n",
       "      <td>Rajasthan Royals</td>\n",
       "      <td>Gujarat Titans</td>\n",
       "      <td>Narendra Modi Stadium, Ahmedabad</td>\n",
       "      <td>Rajasthan Royals</td>\n",
       "      <td>bat</td>\n",
       "      <td>N</td>\n",
       "      <td>Gujarat Titans</td>\n",
       "      <td>Wickets</td>\n",
       "      <td>7.0</td>\n",
       "      <td>NaN</td>\n",
       "      <td>HH Pandya</td>\n",
       "      <td>['YBK Jaiswal', 'JC Buttler', 'SV Samson', 'D ...</td>\n",
       "      <td>['WP Saha', 'Shubman Gill', 'MS Wade', 'HH Pan...</td>\n",
       "      <td>CB Gaffaney</td>\n",
       "      <td>Nitin Menon</td>\n",
       "    </tr>\n",
       "    <tr>\n",
       "      <th>1</th>\n",
       "      <td>1312199</td>\n",
       "      <td>Ahmedabad</td>\n",
       "      <td>2022-05-27</td>\n",
       "      <td>2022</td>\n",
       "      <td>Qualifier 2</td>\n",
       "      <td>Royal Challengers Bangalore</td>\n",
       "      <td>Rajasthan Royals</td>\n",
       "      <td>Narendra Modi Stadium, Ahmedabad</td>\n",
       "      <td>Rajasthan Royals</td>\n",
       "      <td>field</td>\n",
       "      <td>N</td>\n",
       "      <td>Rajasthan Royals</td>\n",
       "      <td>Wickets</td>\n",
       "      <td>7.0</td>\n",
       "      <td>NaN</td>\n",
       "      <td>JC Buttler</td>\n",
       "      <td>['V Kohli', 'F du Plessis', 'RM Patidar', 'GJ ...</td>\n",
       "      <td>['YBK Jaiswal', 'JC Buttler', 'SV Samson', 'D ...</td>\n",
       "      <td>CB Gaffaney</td>\n",
       "      <td>Nitin Menon</td>\n",
       "    </tr>\n",
       "    <tr>\n",
       "      <th>2</th>\n",
       "      <td>1312198</td>\n",
       "      <td>Kolkata</td>\n",
       "      <td>2022-05-25</td>\n",
       "      <td>2022</td>\n",
       "      <td>Eliminator</td>\n",
       "      <td>Royal Challengers Bangalore</td>\n",
       "      <td>Lucknow Super Giants</td>\n",
       "      <td>Eden Gardens, Kolkata</td>\n",
       "      <td>Lucknow Super Giants</td>\n",
       "      <td>field</td>\n",
       "      <td>N</td>\n",
       "      <td>Royal Challengers Bangalore</td>\n",
       "      <td>Runs</td>\n",
       "      <td>14.0</td>\n",
       "      <td>NaN</td>\n",
       "      <td>RM Patidar</td>\n",
       "      <td>['V Kohli', 'F du Plessis', 'RM Patidar', 'GJ ...</td>\n",
       "      <td>['Q de Kock', 'KL Rahul', 'M Vohra', 'DJ Hooda...</td>\n",
       "      <td>J Madanagopal</td>\n",
       "      <td>MA Gough</td>\n",
       "    </tr>\n",
       "    <tr>\n",
       "      <th>3</th>\n",
       "      <td>1312197</td>\n",
       "      <td>Kolkata</td>\n",
       "      <td>2022-05-24</td>\n",
       "      <td>2022</td>\n",
       "      <td>Qualifier 1</td>\n",
       "      <td>Rajasthan Royals</td>\n",
       "      <td>Gujarat Titans</td>\n",
       "      <td>Eden Gardens, Kolkata</td>\n",
       "      <td>Gujarat Titans</td>\n",
       "      <td>field</td>\n",
       "      <td>N</td>\n",
       "      <td>Gujarat Titans</td>\n",
       "      <td>Wickets</td>\n",
       "      <td>7.0</td>\n",
       "      <td>NaN</td>\n",
       "      <td>DA Miller</td>\n",
       "      <td>['YBK Jaiswal', 'JC Buttler', 'SV Samson', 'D ...</td>\n",
       "      <td>['WP Saha', 'Shubman Gill', 'MS Wade', 'HH Pan...</td>\n",
       "      <td>BNJ Oxenford</td>\n",
       "      <td>VK Sharma</td>\n",
       "    </tr>\n",
       "    <tr>\n",
       "      <th>4</th>\n",
       "      <td>1304116</td>\n",
       "      <td>Mumbai</td>\n",
       "      <td>2022-05-22</td>\n",
       "      <td>2022</td>\n",
       "      <td>70</td>\n",
       "      <td>Sunrisers Hyderabad</td>\n",
       "      <td>Punjab Kings</td>\n",
       "      <td>Wankhede Stadium, Mumbai</td>\n",
       "      <td>Sunrisers Hyderabad</td>\n",
       "      <td>bat</td>\n",
       "      <td>N</td>\n",
       "      <td>Punjab Kings</td>\n",
       "      <td>Wickets</td>\n",
       "      <td>5.0</td>\n",
       "      <td>NaN</td>\n",
       "      <td>Harpreet Brar</td>\n",
       "      <td>['PK Garg', 'Abhishek Sharma', 'RA Tripathi', ...</td>\n",
       "      <td>['JM Bairstow', 'S Dhawan', 'M Shahrukh Khan',...</td>\n",
       "      <td>AK Chaudhary</td>\n",
       "      <td>NA Patwardhan</td>\n",
       "    </tr>\n",
       "  </tbody>\n",
       "</table>\n",
       "</div>"
      ],
      "text/plain": [
       "        ID       City        Date Season  MatchNumber  \\\n",
       "0  1312200  Ahmedabad  2022-05-29   2022        Final   \n",
       "1  1312199  Ahmedabad  2022-05-27   2022  Qualifier 2   \n",
       "2  1312198    Kolkata  2022-05-25   2022   Eliminator   \n",
       "3  1312197    Kolkata  2022-05-24   2022  Qualifier 1   \n",
       "4  1304116     Mumbai  2022-05-22   2022           70   \n",
       "\n",
       "                         Team1                 Team2  \\\n",
       "0             Rajasthan Royals        Gujarat Titans   \n",
       "1  Royal Challengers Bangalore      Rajasthan Royals   \n",
       "2  Royal Challengers Bangalore  Lucknow Super Giants   \n",
       "3             Rajasthan Royals        Gujarat Titans   \n",
       "4          Sunrisers Hyderabad          Punjab Kings   \n",
       "\n",
       "                              Venue            TossWinner TossDecision  \\\n",
       "0  Narendra Modi Stadium, Ahmedabad      Rajasthan Royals          bat   \n",
       "1  Narendra Modi Stadium, Ahmedabad      Rajasthan Royals        field   \n",
       "2             Eden Gardens, Kolkata  Lucknow Super Giants        field   \n",
       "3             Eden Gardens, Kolkata        Gujarat Titans        field   \n",
       "4          Wankhede Stadium, Mumbai   Sunrisers Hyderabad          bat   \n",
       "\n",
       "  SuperOver                  WinningTeam    WonBy  Margin method  \\\n",
       "0         N               Gujarat Titans  Wickets     7.0    NaN   \n",
       "1         N             Rajasthan Royals  Wickets     7.0    NaN   \n",
       "2         N  Royal Challengers Bangalore     Runs    14.0    NaN   \n",
       "3         N               Gujarat Titans  Wickets     7.0    NaN   \n",
       "4         N                 Punjab Kings  Wickets     5.0    NaN   \n",
       "\n",
       "  Player_of_Match                                       Team1Players  \\\n",
       "0       HH Pandya  ['YBK Jaiswal', 'JC Buttler', 'SV Samson', 'D ...   \n",
       "1      JC Buttler  ['V Kohli', 'F du Plessis', 'RM Patidar', 'GJ ...   \n",
       "2      RM Patidar  ['V Kohli', 'F du Plessis', 'RM Patidar', 'GJ ...   \n",
       "3       DA Miller  ['YBK Jaiswal', 'JC Buttler', 'SV Samson', 'D ...   \n",
       "4   Harpreet Brar  ['PK Garg', 'Abhishek Sharma', 'RA Tripathi', ...   \n",
       "\n",
       "                                        Team2Players        Umpire1  \\\n",
       "0  ['WP Saha', 'Shubman Gill', 'MS Wade', 'HH Pan...    CB Gaffaney   \n",
       "1  ['YBK Jaiswal', 'JC Buttler', 'SV Samson', 'D ...    CB Gaffaney   \n",
       "2  ['Q de Kock', 'KL Rahul', 'M Vohra', 'DJ Hooda...  J Madanagopal   \n",
       "3  ['WP Saha', 'Shubman Gill', 'MS Wade', 'HH Pan...   BNJ Oxenford   \n",
       "4  ['JM Bairstow', 'S Dhawan', 'M Shahrukh Khan',...   AK Chaudhary   \n",
       "\n",
       "         Umpire2  \n",
       "0    Nitin Menon  \n",
       "1    Nitin Menon  \n",
       "2       MA Gough  \n",
       "3      VK Sharma  \n",
       "4  NA Patwardhan  "
      ]
     },
     "execution_count": 176,
     "metadata": {},
     "output_type": "execute_result"
    }
   ],
   "source": [
    "df.head()"
   ]
  },
  {
   "cell_type": "code",
   "execution_count": 177,
   "id": "ec06a115",
   "metadata": {},
   "outputs": [
    {
     "data": {
      "text/plain": [
       "(950, 20)"
      ]
     },
     "execution_count": 177,
     "metadata": {},
     "output_type": "execute_result"
    }
   ],
   "source": [
    "df.shape"
   ]
  },
  {
   "cell_type": "markdown",
   "id": "b10c688a",
   "metadata": {},
   "source": [
    "# Checking data format"
   ]
  },
  {
   "cell_type": "code",
   "execution_count": 178,
   "id": "2a98eb2d",
   "metadata": {},
   "outputs": [
    {
     "name": "stdout",
     "output_type": "stream",
     "text": [
      "<class 'pandas.core.frame.DataFrame'>\n",
      "RangeIndex: 950 entries, 0 to 949\n",
      "Data columns (total 20 columns):\n",
      " #   Column           Non-Null Count  Dtype  \n",
      "---  ------           --------------  -----  \n",
      " 0   ID               950 non-null    int64  \n",
      " 1   City             899 non-null    object \n",
      " 2   Date             950 non-null    object \n",
      " 3   Season           950 non-null    object \n",
      " 4   MatchNumber      950 non-null    object \n",
      " 5   Team1            950 non-null    object \n",
      " 6   Team2            950 non-null    object \n",
      " 7   Venue            950 non-null    object \n",
      " 8   TossWinner       950 non-null    object \n",
      " 9   TossDecision     950 non-null    object \n",
      " 10  SuperOver        946 non-null    object \n",
      " 11  WinningTeam      946 non-null    object \n",
      " 12  WonBy            950 non-null    object \n",
      " 13  Margin           932 non-null    float64\n",
      " 14  method           19 non-null     object \n",
      " 15  Player_of_Match  946 non-null    object \n",
      " 16  Team1Players     950 non-null    object \n",
      " 17  Team2Players     950 non-null    object \n",
      " 18  Umpire1          950 non-null    object \n",
      " 19  Umpire2          950 non-null    object \n",
      "dtypes: float64(1), int64(1), object(18)\n",
      "memory usage: 148.6+ KB\n"
     ]
    }
   ],
   "source": [
    "df.info()"
   ]
  },
  {
   "cell_type": "code",
   "execution_count": 179,
   "id": "ba5f3291",
   "metadata": {},
   "outputs": [
    {
     "data": {
      "text/plain": [
       "ID                   0\n",
       "City                51\n",
       "Date                 0\n",
       "Season               0\n",
       "MatchNumber          0\n",
       "Team1                0\n",
       "Team2                0\n",
       "Venue                0\n",
       "TossWinner           0\n",
       "TossDecision         0\n",
       "SuperOver            4\n",
       "WinningTeam          4\n",
       "WonBy                0\n",
       "Margin              18\n",
       "method             931\n",
       "Player_of_Match      4\n",
       "Team1Players         0\n",
       "Team2Players         0\n",
       "Umpire1              0\n",
       "Umpire2              0\n",
       "dtype: int64"
      ]
     },
     "execution_count": 179,
     "metadata": {},
     "output_type": "execute_result"
    }
   ],
   "source": [
    "df.isnull().sum()"
   ]
  },
  {
   "cell_type": "code",
   "execution_count": 180,
   "id": "e06f883a",
   "metadata": {},
   "outputs": [
    {
     "data": {
      "text/plain": [
       "Index(['ID', 'City', 'Date', 'Season', 'MatchNumber', 'Team1', 'Team2',\n",
       "       'Venue', 'TossWinner', 'TossDecision', 'SuperOver', 'WinningTeam',\n",
       "       'WonBy', 'Margin', 'method', 'Player_of_Match', 'Team1Players',\n",
       "       'Team2Players', 'Umpire1', 'Umpire2'],\n",
       "      dtype='object')"
      ]
     },
     "execution_count": 180,
     "metadata": {},
     "output_type": "execute_result"
    }
   ],
   "source": [
    "col=df.columns\n",
    "col"
   ]
  },
  {
   "cell_type": "markdown",
   "id": "2b3a6c1d",
   "metadata": {},
   "source": [
    "Handling Null Values"
   ]
  },
  {
   "cell_type": "code",
   "execution_count": 181,
   "id": "6edefabe",
   "metadata": {},
   "outputs": [
    {
     "name": "stdout",
     "output_type": "stream",
     "text": [
      "       Column Name  Data Type    #Distinct NaN Values\n",
      "                ID      int64        950          0\n",
      "              City     object         33         51\n",
      "              Date     object        706          0\n",
      "            Season     object         15          0\n",
      "       MatchNumber     object         80          0\n",
      "             Team1     object         18          0\n",
      "             Team2     object         18          0\n",
      "             Venue     object         49          0\n",
      "        TossWinner     object         18          0\n",
      "      TossDecision     object          2          0\n",
      "         SuperOver     object          2          4\n",
      "       WinningTeam     object         18          4\n",
      "             WonBy     object          4          0\n",
      "            Margin    float64         94         18\n",
      "            method     object          1        931\n",
      "   Player_of_Match     object        262          4\n",
      "      Team1Players     object        932          0\n",
      "      Team2Players     object        937          0\n",
      "           Umpire1     object         58          0\n",
      "           Umpire2     object         60          0\n"
     ]
    }
   ],
   "source": [
    "print(\"%18s %10s   %10s %10s\" % (\"Column Name\", \"Data Type\", \"#Distinct\", \"NaN Values\"))\n",
    "for col in df.columns:\n",
    "    dtyp = df[col].dtype\n",
    "    uniq = df[col].nunique()\n",
    "    na = df[col].isna().sum()\n",
    "    print(\"%18s %10s %10s %10s\" % (col, dtyp, uniq, na))"
   ]
  },
  {
   "cell_type": "markdown",
   "id": "8a521584",
   "metadata": {},
   "source": [
    "# Data Cleaning And Preperation"
   ]
  },
  {
   "cell_type": "markdown",
   "id": "e40bda48",
   "metadata": {},
   "source": [
    "# Replace NaN Values with Zeros"
   ]
  },
  {
   "cell_type": "code",
   "execution_count": 182,
   "id": "fc6b123d",
   "metadata": {},
   "outputs": [
    {
     "data": {
      "text/plain": [
       "(950, 20)"
      ]
     },
     "execution_count": 182,
     "metadata": {},
     "output_type": "execute_result"
    }
   ],
   "source": [
    "df.shape"
   ]
  },
  {
   "cell_type": "code",
   "execution_count": 183,
   "id": "ea13eb76",
   "metadata": {},
   "outputs": [],
   "source": [
    "df1 = df.loc[(df != 0).any(axis=1)]"
   ]
  },
  {
   "cell_type": "markdown",
   "id": "d2eba6f6",
   "metadata": {},
   "source": [
    "dropping less important features for simpler analysis"
   ]
  },
  {
   "cell_type": "code",
   "execution_count": 184,
   "id": "9a85a8f3",
   "metadata": {},
   "outputs": [],
   "source": [
    "df2=df1.drop([\"ID\",\"Date\",\"MatchNumber\",\"Team1Players\",\"Team2Players\"],axis=1)"
   ]
  },
  {
   "cell_type": "code",
   "execution_count": 185,
   "id": "debd57a0",
   "metadata": {
    "scrolled": true
   },
   "outputs": [
    {
     "name": "stdout",
     "output_type": "stream",
     "text": [
      "----------------------------------------\n",
      "Column Name Is City\n",
      "----------------------------------------\n",
      "Mumbai            159\n",
      "Kolkata            79\n",
      "Delhi              78\n",
      "Chennai            67\n",
      "Bangalore          65\n",
      "Hyderabad          64\n",
      "Chandigarh         56\n",
      "Pune               51\n",
      "Jaipur             47\n",
      "Abu Dhabi          37\n",
      "Ahmedabad          19\n",
      "Bengaluru          15\n",
      "Durban             15\n",
      "Visakhapatnam      13\n",
      "Dubai              13\n",
      "Centurion          12\n",
      "Rajkot             10\n",
      "Sharjah            10\n",
      "Dharamsala          9\n",
      "Navi Mumbai         9\n",
      "Indore              9\n",
      "Johannesburg        8\n",
      "Ranchi              7\n",
      "Cuttack             7\n",
      "Port Elizabeth      7\n",
      "Cape Town           7\n",
      "Raipur              6\n",
      "Kochi               5\n",
      "Kanpur              4\n",
      "Nagpur              3\n",
      "Kimberley           3\n",
      "East London         3\n",
      "Bloemfontein        2\n",
      "Name: City, dtype: int64\n",
      "----------------------------------------\n",
      "Column Name Is Season\n",
      "----------------------------------------\n",
      "2013       76\n",
      "2022       74\n",
      "2012       74\n",
      "2011       73\n",
      "2021       60\n",
      "2020/21    60\n",
      "2019       60\n",
      "2018       60\n",
      "2016       60\n",
      "2014       60\n",
      "2009/10    60\n",
      "2017       59\n",
      "2015       59\n",
      "2007/08    58\n",
      "2009       57\n",
      "Name: Season, dtype: int64\n",
      "----------------------------------------\n",
      "Column Name Is Team1\n",
      "----------------------------------------\n",
      "Royal Challengers Bangalore    126\n",
      "Mumbai Indians                 112\n",
      "Chennai Super Kings            111\n",
      "Kolkata Knight Riders          105\n",
      "Kings XI Punjab                 92\n",
      "Rajasthan Royals                89\n",
      "Delhi Daredevils                85\n",
      "Sunrisers Hyderabad             69\n",
      "Deccan Chargers                 39\n",
      "Delhi Capitals                  29\n",
      "Pune Warriors                   23\n",
      "Punjab Kings                    18\n",
      "Gujarat Lions                   16\n",
      "Lucknow Super Giants             8\n",
      "Gujarat Titans                   7\n",
      "Rising Pune Supergiant           7\n",
      "Rising Pune Supergiants          7\n",
      "Kochi Tuskers Kerala             7\n",
      "Name: Team1, dtype: int64\n",
      "----------------------------------------\n",
      "Column Name Is Team2\n",
      "----------------------------------------\n",
      "Mumbai Indians                 119\n",
      "Kolkata Knight Riders          118\n",
      "Rajasthan Royals               103\n",
      "Royal Challengers Bangalore    100\n",
      "Kings XI Punjab                 98\n",
      "Chennai Super Kings             97\n",
      "Sunrisers Hyderabad             83\n",
      "Delhi Daredevils                76\n",
      "Deccan Chargers                 36\n",
      "Delhi Capitals                  34\n",
      "Pune Warriors                   23\n",
      "Gujarat Lions                   14\n",
      "Punjab Kings                    10\n",
      "Gujarat Titans                   9\n",
      "Rising Pune Supergiant           9\n",
      "Rising Pune Supergiants          7\n",
      "Lucknow Super Giants             7\n",
      "Kochi Tuskers Kerala             7\n",
      "Name: Team2, dtype: int64\n",
      "----------------------------------------\n",
      "Column Name Is Venue\n",
      "----------------------------------------\n",
      "Eden Gardens                                            77\n",
      "Wankhede Stadium                                        73\n",
      "M Chinnaswamy Stadium                                   65\n",
      "Feroz Shah Kotla                                        60\n",
      "Rajiv Gandhi International Stadium, Uppal               49\n",
      "MA Chidambaram Stadium, Chepauk                         48\n",
      "Sawai Mansingh Stadium                                  47\n",
      "Dubai International Cricket Stadium                     46\n",
      "Punjab Cricket Association Stadium, Mohali              35\n",
      "Wankhede Stadium, Mumbai                                31\n",
      "Sheikh Zayed Stadium                                    29\n",
      "Sharjah Cricket Stadium                                 28\n",
      "Maharashtra Cricket Association Stadium                 22\n",
      "Dr DY Patil Sports Academy, Mumbai                      20\n",
      "Dr DY Patil Sports Academy                              17\n",
      "Brabourne Stadium, Mumbai                               17\n",
      "Subrata Roy Sahara Stadium                              16\n",
      "Rajiv Gandhi International Stadium                      15\n",
      "Kingsmead                                               15\n",
      "M.Chinnaswamy Stadium                                   15\n",
      "Arun Jaitley Stadium                                    14\n",
      "Dr. Y.S. Rajasekhara Reddy ACA-VDCA Cricket Stadium     13\n",
      "Maharashtra Cricket Association Stadium, Pune           13\n",
      "SuperSport Park                                         12\n",
      "Sardar Patel Stadium, Motera                            12\n",
      "Punjab Cricket Association IS Bindra Stadium, Mohali    11\n",
      "Punjab Cricket Association IS Bindra Stadium            10\n",
      "MA Chidambaram Stadium, Chepauk, Chennai                10\n",
      "Saurashtra Cricket Association Stadium                  10\n",
      "Brabourne Stadium                                       10\n",
      "Holkar Cricket Stadium                                   9\n",
      "MA Chidambaram Stadium                                   9\n",
      "Himachal Pradesh Cricket Association Stadium             9\n",
      "New Wanderers Stadium                                    8\n",
      "Zayed Cricket Stadium, Abu Dhabi                         8\n",
      "St George's Park                                         7\n",
      "Narendra Modi Stadium, Ahmedabad                         7\n",
      "Barabati Stadium                                         7\n",
      "JSCA International Stadium Complex                       7\n",
      "Newlands                                                 7\n",
      "Shaheed Veer Narayan Singh International Stadium         6\n",
      "Nehru Stadium                                            5\n",
      "Green Park                                               4\n",
      "Arun Jaitley Stadium, Delhi                              4\n",
      "Vidarbha Cricket Association Stadium, Jamtha             3\n",
      "De Beers Diamond Oval                                    3\n",
      "Buffalo Park                                             3\n",
      "Eden Gardens, Kolkata                                    2\n",
      "OUTsurance Oval                                          2\n",
      "Name: Venue, dtype: int64\n",
      "----------------------------------------\n",
      "Column Name Is TossWinner\n",
      "----------------------------------------\n",
      "Mumbai Indians                 123\n",
      "Kolkata Knight Riders          114\n",
      "Chennai Super Kings            109\n",
      "Royal Challengers Bangalore    105\n",
      "Rajasthan Royals                99\n",
      "Kings XI Punjab                 85\n",
      "Delhi Daredevils                80\n",
      "Sunrisers Hyderabad             74\n",
      "Deccan Chargers                 43\n",
      "Delhi Capitals                  36\n",
      "Pune Warriors                   20\n",
      "Gujarat Lions                   15\n",
      "Gujarat Titans                  10\n",
      "Punjab Kings                     9\n",
      "Kochi Tuskers Kerala             8\n",
      "Lucknow Super Giants             7\n",
      "Rising Pune Supergiants          7\n",
      "Rising Pune Supergiant           6\n",
      "Name: TossWinner, dtype: int64\n",
      "----------------------------------------\n",
      "Column Name Is TossDecision\n",
      "----------------------------------------\n",
      "field    599\n",
      "bat      351\n",
      "Name: TossDecision, dtype: int64\n",
      "----------------------------------------\n",
      "Column Name Is SuperOver\n",
      "----------------------------------------\n",
      "N    932\n",
      "Y     14\n",
      "Name: SuperOver, dtype: int64\n",
      "----------------------------------------\n",
      "Column Name Is WinningTeam\n",
      "----------------------------------------\n",
      "Mumbai Indians                 131\n",
      "Chennai Super Kings            121\n",
      "Kolkata Knight Riders          114\n",
      "Royal Challengers Bangalore    109\n",
      "Rajasthan Royals                96\n",
      "Kings XI Punjab                 88\n",
      "Sunrisers Hyderabad             75\n",
      "Delhi Daredevils                67\n",
      "Delhi Capitals                  36\n",
      "Deccan Chargers                 29\n",
      "Gujarat Lions                   13\n",
      "Punjab Kings                    13\n",
      "Pune Warriors                   12\n",
      "Gujarat Titans                  12\n",
      "Rising Pune Supergiant          10\n",
      "Lucknow Super Giants             9\n",
      "Kochi Tuskers Kerala             6\n",
      "Rising Pune Supergiants          5\n",
      "Name: WinningTeam, dtype: int64\n",
      "----------------------------------------\n",
      "Column Name Is WonBy\n",
      "----------------------------------------\n",
      "Wickets      509\n",
      "Runs         423\n",
      "SuperOver     14\n",
      "NoResults      4\n",
      "Name: WonBy, dtype: int64\n",
      "----------------------------------------\n",
      "Column Name Is Margin\n",
      "----------------------------------------\n",
      "6.0      114\n",
      "7.0      113\n",
      "5.0       98\n",
      "8.0       75\n",
      "4.0       62\n",
      "        ... \n",
      "118.0      1\n",
      "146.0      1\n",
      "91.0       1\n",
      "52.0       1\n",
      "140.0      1\n",
      "Name: Margin, Length: 94, dtype: int64\n",
      "----------------------------------------\n",
      "Column Name Is method\n",
      "----------------------------------------\n",
      "D/L    19\n",
      "Name: method, dtype: int64\n",
      "----------------------------------------\n",
      "Column Name Is Player_of_Match\n",
      "----------------------------------------\n",
      "AB de Villiers    25\n",
      "CH Gayle          22\n",
      "DA Warner         18\n",
      "RG Sharma         18\n",
      "MS Dhoni          17\n",
      "                  ..\n",
      "CR Brathwaite      1\n",
      "Mohsin Khan        1\n",
      "A Zampa            1\n",
      "BCJ Cutting        1\n",
      "MF Maharoof        1\n",
      "Name: Player_of_Match, Length: 262, dtype: int64\n",
      "----------------------------------------\n",
      "Column Name Is Umpire1\n",
      "----------------------------------------\n",
      "AK Chaudhary             95\n",
      "HDPK Dharmasena          76\n",
      "Asad Rauf                51\n",
      "S Ravi                   48\n",
      "CB Gaffaney              47\n",
      "KN Ananthapadmanabhan    44\n",
      "M Erasmus                42\n",
      "Aleem Dar                38\n",
      "BF Bowden                36\n",
      "BR Doctrove              34\n",
      "Nitin Menon              31\n",
      "AY Dandekar              30\n",
      "BNJ Oxenford             30\n",
      "C Shamshuddin            28\n",
      "RE Koertzen              20\n",
      "S Asnani                 19\n",
      "NJ Llong                 17\n",
      "JD Cloete                16\n",
      "CK Nandan                16\n",
      "A Nand Kishore           16\n",
      "RK Illingworth           14\n",
      "BG Jerling               13\n",
      "VA Kulkarni              12\n",
      "SS Hazare                11\n",
      "S Das                    10\n",
      "MR Benson                10\n",
      "K Hariharan              10\n",
      "A Deshmukh                9\n",
      "DJ Harper                 9\n",
      "J Madanagopal             8\n",
      "GAV Baxter                7\n",
      "PG Pathak                 7\n",
      "RM Deshpande              7\n",
      "IL Howell                 7\n",
      "PR Reiffel                7\n",
      "Chirra Ravikanthreddy     6\n",
      "RJ Tucker                 6\n",
      "SJ Davis                  6\n",
      "YC Barde                  6\n",
      "SD Fry                    5\n",
      "SK Tarapore               5\n",
      "AM Saheba                 4\n",
      "VK Sharma                 4\n",
      "IJ Gould                  4\n",
      "R Pandit                  3\n",
      "Navdeep Singh             3\n",
      "GR Sadashiv Iyer          3\n",
      "K Bharatan                3\n",
      "UV Gandhe                 3\n",
      "NA Patwardhan             2\n",
      "K Srinivasan              2\n",
      "K Srinath                 2\n",
      "MA Gough                  2\n",
      "AV Jayaprakash            2\n",
      "HAS Khalid                1\n",
      "SJA Taufel                1\n",
      "SL Shastri                1\n",
      "Tapan Sharma              1\n",
      "Name: Umpire1, dtype: int64\n",
      "----------------------------------------\n",
      "Column Name Is Umpire2\n",
      "----------------------------------------\n",
      "S Ravi                   83\n",
      "C Shamshuddin            60\n",
      "SJA Taufel               54\n",
      "Nitin Menon              52\n",
      "RJ Tucker                46\n",
      "CK Nandan                43\n",
      "VK Sharma                42\n",
      "VA Kulkarni              38\n",
      "RB Tiffin                30\n",
      "BNJ Oxenford             27\n",
      "SK Tarapore              26\n",
      "RK Illingworth           25\n",
      "M Erasmus                25\n",
      "CB Gaffaney              22\n",
      "AM Saheba                22\n",
      "YC Barde                 22\n",
      "PR Reiffel               21\n",
      "RE Koertzen              21\n",
      "NJ Llong                 20\n",
      "HDPK Dharmasena          18\n",
      "DJ Harper                18\n",
      "AK Chaudhary             16\n",
      "UV Gandhe                15\n",
      "SL Shastri               13\n",
      "K Srinath                13\n",
      "KN Ananthapadmanabhan    12\n",
      "S Asnani                 11\n",
      "K Hariharan              11\n",
      "MA Gough                 10\n",
      "PG Pathak                 9\n",
      "A Nand Kishore            9\n",
      "BR Doctrove               8\n",
      "Tapan Sharma              7\n",
      "IL Howell                 7\n",
      "K Srinivasan              7\n",
      "SS Hazare                 6\n",
      "AL Hill                   6\n",
      "I Shivram                 6\n",
      "N Pandit                  6\n",
      "GA Pratapkumar            6\n",
      "HAS Khalid                6\n",
      "TH Wijewardene            5\n",
      "S Das                     5\n",
      "AV Jayaprakash            4\n",
      "Navdeep Singh             4\n",
      "NA Patwardhan             4\n",
      "BG Jerling                4\n",
      "GR Sadashiv Iyer          3\n",
      "R Pandit                  3\n",
      "A Deshmukh                3\n",
      "J Madanagopal             3\n",
      "SD Ranade                 2\n",
      "MR Benson                 2\n",
      "IJ Gould                  2\n",
      "AY Dandekar               2\n",
      "SJ Davis                  1\n",
      "Subroto Das               1\n",
      "BF Bowden                 1\n",
      "SD Fry                    1\n",
      "JD Cloete                 1\n",
      "Name: Umpire2, dtype: int64\n"
     ]
    }
   ],
   "source": [
    "for col in df2.columns.tolist():\n",
    "    print(\"-\" * 40)\n",
    "    print(\"Column Name Is\",col)\n",
    "    print(\"-\" * 40)\n",
    "    print(df2[col].value_counts())  "
   ]
  },
  {
   "cell_type": "code",
   "execution_count": 186,
   "id": "4b7611bd",
   "metadata": {},
   "outputs": [
    {
     "data": {
      "text/plain": [
       "(950, 15)"
      ]
     },
     "execution_count": 186,
     "metadata": {},
     "output_type": "execute_result"
    }
   ],
   "source": [
    "df2.shape"
   ]
  },
  {
   "cell_type": "code",
   "execution_count": 187,
   "id": "1b1d0aeb",
   "metadata": {},
   "outputs": [],
   "source": [
    "df2['Season'] = df2['Season'].replace(['2007/08'],'2008')\n",
    "df2['Season'] = df2['Season'].replace(['2020/21'],'2020')\n",
    "df2['Season'] = df2['Season'].replace(['2009/10'],'2010')"
   ]
  },
  {
   "cell_type": "code",
   "execution_count": 188,
   "id": "b0070ee8",
   "metadata": {},
   "outputs": [
    {
     "data": {
      "text/plain": [
       "array(['2022', '2021', '2020', '2019', '2018', '2017', '2016', '2015',\n",
       "       '2014', '2013', '2012', '2011', '2010', '2009', '2008'],\n",
       "      dtype=object)"
      ]
     },
     "execution_count": 188,
     "metadata": {},
     "output_type": "execute_result"
    }
   ],
   "source": [
    "df2[\"Season\"].unique()"
   ]
  },
  {
   "cell_type": "code",
   "execution_count": 189,
   "id": "4e88b759",
   "metadata": {},
   "outputs": [],
   "source": [
    "df2[\"Season\"] = df2[\"Season\"].astype(int)"
   ]
  },
  {
   "cell_type": "code",
   "execution_count": 190,
   "id": "ba510c5b",
   "metadata": {},
   "outputs": [
    {
     "data": {
      "text/plain": [
       "array([2022, 2021, 2020, 2019, 2018, 2017, 2016, 2015, 2014, 2013, 2012,\n",
       "       2011, 2010, 2009, 2008])"
      ]
     },
     "execution_count": 190,
     "metadata": {},
     "output_type": "execute_result"
    }
   ],
   "source": [
    "df2[\"Season\"].unique()"
   ]
  },
  {
   "cell_type": "code",
   "execution_count": 191,
   "id": "0d211d12",
   "metadata": {},
   "outputs": [],
   "source": [
    "df2.replace(['Punjab Kings','Gujarat Titans','Lucknow Super Giants','Mumbai Indians','Kolkata Knight Riders','Royal Challengers Bangalore','Deccan Chargers','Chennai Super Kings',\n",
    "                 'Rajasthan Royals','Delhi Daredevils','Gujarat Lions','Kings XI Punjab',\n",
    "                 'Sunrisers Hyderabad','Rising Pune Supergiants','Rising Pune Supergiant','Kochi Tuskers Kerala','Pune Warriors']\n",
    "                ,['PK','GT','LSG','MI','KKR','RCB','Deccan Chargers','CSK','RR','DD','GL','KXIP','SRH','RPS','RPS','KTK','PW'],inplace=True)"
   ]
  },
  {
   "cell_type": "code",
   "execution_count": 192,
   "id": "d19733ee",
   "metadata": {
    "scrolled": true
   },
   "outputs": [
    {
     "data": {
      "text/html": [
       "<div>\n",
       "<style scoped>\n",
       "    .dataframe tbody tr th:only-of-type {\n",
       "        vertical-align: middle;\n",
       "    }\n",
       "\n",
       "    .dataframe tbody tr th {\n",
       "        vertical-align: top;\n",
       "    }\n",
       "\n",
       "    .dataframe thead th {\n",
       "        text-align: right;\n",
       "    }\n",
       "</style>\n",
       "<table border=\"1\" class=\"dataframe\">\n",
       "  <thead>\n",
       "    <tr style=\"text-align: right;\">\n",
       "      <th></th>\n",
       "      <th>City</th>\n",
       "      <th>Season</th>\n",
       "      <th>Team1</th>\n",
       "      <th>Team2</th>\n",
       "      <th>Venue</th>\n",
       "      <th>TossWinner</th>\n",
       "      <th>TossDecision</th>\n",
       "      <th>SuperOver</th>\n",
       "      <th>WinningTeam</th>\n",
       "      <th>WonBy</th>\n",
       "      <th>Margin</th>\n",
       "      <th>method</th>\n",
       "      <th>Player_of_Match</th>\n",
       "      <th>Umpire1</th>\n",
       "      <th>Umpire2</th>\n",
       "    </tr>\n",
       "  </thead>\n",
       "  <tbody>\n",
       "    <tr>\n",
       "      <th>0</th>\n",
       "      <td>Ahmedabad</td>\n",
       "      <td>2022</td>\n",
       "      <td>RR</td>\n",
       "      <td>GT</td>\n",
       "      <td>Narendra Modi Stadium, Ahmedabad</td>\n",
       "      <td>RR</td>\n",
       "      <td>bat</td>\n",
       "      <td>N</td>\n",
       "      <td>GT</td>\n",
       "      <td>Wickets</td>\n",
       "      <td>7.0</td>\n",
       "      <td>NaN</td>\n",
       "      <td>HH Pandya</td>\n",
       "      <td>CB Gaffaney</td>\n",
       "      <td>Nitin Menon</td>\n",
       "    </tr>\n",
       "    <tr>\n",
       "      <th>1</th>\n",
       "      <td>Ahmedabad</td>\n",
       "      <td>2022</td>\n",
       "      <td>RCB</td>\n",
       "      <td>RR</td>\n",
       "      <td>Narendra Modi Stadium, Ahmedabad</td>\n",
       "      <td>RR</td>\n",
       "      <td>field</td>\n",
       "      <td>N</td>\n",
       "      <td>RR</td>\n",
       "      <td>Wickets</td>\n",
       "      <td>7.0</td>\n",
       "      <td>NaN</td>\n",
       "      <td>JC Buttler</td>\n",
       "      <td>CB Gaffaney</td>\n",
       "      <td>Nitin Menon</td>\n",
       "    </tr>\n",
       "    <tr>\n",
       "      <th>2</th>\n",
       "      <td>Kolkata</td>\n",
       "      <td>2022</td>\n",
       "      <td>RCB</td>\n",
       "      <td>LSG</td>\n",
       "      <td>Eden Gardens, Kolkata</td>\n",
       "      <td>LSG</td>\n",
       "      <td>field</td>\n",
       "      <td>N</td>\n",
       "      <td>RCB</td>\n",
       "      <td>Runs</td>\n",
       "      <td>14.0</td>\n",
       "      <td>NaN</td>\n",
       "      <td>RM Patidar</td>\n",
       "      <td>J Madanagopal</td>\n",
       "      <td>MA Gough</td>\n",
       "    </tr>\n",
       "    <tr>\n",
       "      <th>3</th>\n",
       "      <td>Kolkata</td>\n",
       "      <td>2022</td>\n",
       "      <td>RR</td>\n",
       "      <td>GT</td>\n",
       "      <td>Eden Gardens, Kolkata</td>\n",
       "      <td>GT</td>\n",
       "      <td>field</td>\n",
       "      <td>N</td>\n",
       "      <td>GT</td>\n",
       "      <td>Wickets</td>\n",
       "      <td>7.0</td>\n",
       "      <td>NaN</td>\n",
       "      <td>DA Miller</td>\n",
       "      <td>BNJ Oxenford</td>\n",
       "      <td>VK Sharma</td>\n",
       "    </tr>\n",
       "    <tr>\n",
       "      <th>4</th>\n",
       "      <td>Mumbai</td>\n",
       "      <td>2022</td>\n",
       "      <td>SRH</td>\n",
       "      <td>PK</td>\n",
       "      <td>Wankhede Stadium, Mumbai</td>\n",
       "      <td>SRH</td>\n",
       "      <td>bat</td>\n",
       "      <td>N</td>\n",
       "      <td>PK</td>\n",
       "      <td>Wickets</td>\n",
       "      <td>5.0</td>\n",
       "      <td>NaN</td>\n",
       "      <td>Harpreet Brar</td>\n",
       "      <td>AK Chaudhary</td>\n",
       "      <td>NA Patwardhan</td>\n",
       "    </tr>\n",
       "  </tbody>\n",
       "</table>\n",
       "</div>"
      ],
      "text/plain": [
       "        City  Season Team1 Team2                             Venue TossWinner  \\\n",
       "0  Ahmedabad    2022    RR    GT  Narendra Modi Stadium, Ahmedabad         RR   \n",
       "1  Ahmedabad    2022   RCB    RR  Narendra Modi Stadium, Ahmedabad         RR   \n",
       "2    Kolkata    2022   RCB   LSG             Eden Gardens, Kolkata        LSG   \n",
       "3    Kolkata    2022    RR    GT             Eden Gardens, Kolkata         GT   \n",
       "4     Mumbai    2022   SRH    PK          Wankhede Stadium, Mumbai        SRH   \n",
       "\n",
       "  TossDecision SuperOver WinningTeam    WonBy  Margin method Player_of_Match  \\\n",
       "0          bat         N          GT  Wickets     7.0    NaN       HH Pandya   \n",
       "1        field         N          RR  Wickets     7.0    NaN      JC Buttler   \n",
       "2        field         N         RCB     Runs    14.0    NaN      RM Patidar   \n",
       "3        field         N          GT  Wickets     7.0    NaN       DA Miller   \n",
       "4          bat         N          PK  Wickets     5.0    NaN   Harpreet Brar   \n",
       "\n",
       "         Umpire1        Umpire2  \n",
       "0    CB Gaffaney    Nitin Menon  \n",
       "1    CB Gaffaney    Nitin Menon  \n",
       "2  J Madanagopal       MA Gough  \n",
       "3   BNJ Oxenford      VK Sharma  \n",
       "4   AK Chaudhary  NA Patwardhan  "
      ]
     },
     "execution_count": 192,
     "metadata": {},
     "output_type": "execute_result"
    }
   ],
   "source": [
    "df2.head()"
   ]
  },
  {
   "cell_type": "code",
   "execution_count": 193,
   "id": "42baf368",
   "metadata": {},
   "outputs": [],
   "source": [
    "teams_per_season = df2.groupby('Season')['WinningTeam'].value_counts()"
   ]
  },
  {
   "cell_type": "markdown",
   "id": "17812666",
   "metadata": {},
   "source": [
    "# Exploratory Analysis and Visualization"
   ]
  },
  {
   "cell_type": "markdown",
   "id": "8dad22a0",
   "metadata": {},
   "source": [
    "# Won the most number of matches in a season."
   ]
  },
  {
   "cell_type": "code",
   "execution_count": 194,
   "id": "0cdc87f8",
   "metadata": {},
   "outputs": [
    {
     "name": "stdout",
     "output_type": "stream",
     "text": [
      "((2008, 'RR'), 13)\n",
      "((2009, 'DD'), 10)\n",
      "((2010, 'MI'), 11)\n",
      "((2011, 'CSK'), 11)\n",
      "((2012, 'KKR'), 12)\n",
      "((2013, 'MI'), 13)\n",
      "((2014, 'KXIP'), 12)\n",
      "((2015, 'CSK'), 10)\n",
      "((2016, 'SRH'), 11)\n",
      "((2017, 'MI'), 12)\n",
      "((2018, 'CSK'), 11)\n",
      "((2019, 'MI'), 11)\n",
      "((2020, 'MI'), 11)\n",
      "((2021, 'CSK'), 11)\n",
      "((2022, 'GT'), 12)\n"
     ]
    }
   ],
   "source": [
    "year = 2008\n",
    "win_per_season_df = pd.DataFrame(columns=['Year', 'Team', 'Wins'])\n",
    "for items in teams_per_season.iteritems():    \n",
    "    if items[0][0]==year:\n",
    "        print(items)\n",
    "        win_series = pd.DataFrame({\n",
    "            'Year': [items[0][0]],\n",
    "            'Team': [items[0][1]],\n",
    "            'Wins': [items[1]]\n",
    "        })\n",
    "        win_per_season_df = pd.concat([win_per_season_df,win_series],axis=0,ignore_index=True)\n",
    "        year += 1   "
   ]
  },
  {
   "cell_type": "code",
   "execution_count": 195,
   "id": "44b62eff",
   "metadata": {},
   "outputs": [
    {
     "data": {
      "text/html": [
       "<div>\n",
       "<style scoped>\n",
       "    .dataframe tbody tr th:only-of-type {\n",
       "        vertical-align: middle;\n",
       "    }\n",
       "\n",
       "    .dataframe tbody tr th {\n",
       "        vertical-align: top;\n",
       "    }\n",
       "\n",
       "    .dataframe thead th {\n",
       "        text-align: right;\n",
       "    }\n",
       "</style>\n",
       "<table border=\"1\" class=\"dataframe\">\n",
       "  <thead>\n",
       "    <tr style=\"text-align: right;\">\n",
       "      <th></th>\n",
       "      <th>Year</th>\n",
       "      <th>Team</th>\n",
       "      <th>Wins</th>\n",
       "    </tr>\n",
       "  </thead>\n",
       "  <tbody>\n",
       "    <tr>\n",
       "      <th>0</th>\n",
       "      <td>2008</td>\n",
       "      <td>RR</td>\n",
       "      <td>13</td>\n",
       "    </tr>\n",
       "    <tr>\n",
       "      <th>1</th>\n",
       "      <td>2009</td>\n",
       "      <td>DD</td>\n",
       "      <td>10</td>\n",
       "    </tr>\n",
       "    <tr>\n",
       "      <th>2</th>\n",
       "      <td>2010</td>\n",
       "      <td>MI</td>\n",
       "      <td>11</td>\n",
       "    </tr>\n",
       "    <tr>\n",
       "      <th>3</th>\n",
       "      <td>2011</td>\n",
       "      <td>CSK</td>\n",
       "      <td>11</td>\n",
       "    </tr>\n",
       "    <tr>\n",
       "      <th>4</th>\n",
       "      <td>2012</td>\n",
       "      <td>KKR</td>\n",
       "      <td>12</td>\n",
       "    </tr>\n",
       "  </tbody>\n",
       "</table>\n",
       "</div>"
      ],
      "text/plain": [
       "   Year Team Wins\n",
       "0  2008   RR   13\n",
       "1  2009   DD   10\n",
       "2  2010   MI   11\n",
       "3  2011  CSK   11\n",
       "4  2012  KKR   12"
      ]
     },
     "execution_count": 195,
     "metadata": {},
     "output_type": "execute_result"
    }
   ],
   "source": [
    "win_per_season_df.head()"
   ]
  },
  {
   "cell_type": "code",
   "execution_count": 196,
   "id": "08be9ee2",
   "metadata": {
    "scrolled": true
   },
   "outputs": [
    {
     "data": {
      "image/png": "[encoded data removed]",
      "text/plain": [
       "<Figure size 720x360 with 1 Axes>"
      ]
     },
     "metadata": {
      "needs_background": "light"
     },
     "output_type": "display_data"
    }
   ],
   "source": [
    "plt.figure(figsize=(10,5))\n",
    "plt.title(\"Top Ten IPL Teams\")\n",
    "sns.barplot(x='Wins', y='Team', data=win_per_season_df, palette='Paired');"
   ]
  },
  {
   "cell_type": "markdown",
   "id": "d5237773",
   "metadata": {},
   "source": [
    "# The venue that hosted the maximum number of matches"
   ]
  },
  {
   "cell_type": "code",
   "execution_count": 197,
   "id": "eb3d632c",
   "metadata": {},
   "outputs": [],
   "source": [
    "venue_ser = df2['Venue'].value_counts()\n",
    "venue_df = pd.DataFrame(columns=['venue', 'matches'])\n",
    "count = 0\n",
    "for items in venue_ser.iteritems():\n",
    "    if count>9:\n",
    "        break\n",
    "    else:\n",
    "        temp_df = pd.DataFrame({\n",
    "            'venue':[items[0]],\n",
    "            'matches':[items[1]]\n",
    "        })\n",
    "        venue_df = pd.concat([venue_df,temp_df],axis=0,ignore_index=True)\n",
    "        count += 1  "
   ]
  },
  {
   "cell_type": "code",
   "execution_count": 198,
   "id": "2f145f48",
   "metadata": {},
   "outputs": [
    {
     "data": {
      "text/html": [
       "<div>\n",
       "<style scoped>\n",
       "    .dataframe tbody tr th:only-of-type {\n",
       "        vertical-align: middle;\n",
       "    }\n",
       "\n",
       "    .dataframe tbody tr th {\n",
       "        vertical-align: top;\n",
       "    }\n",
       "\n",
       "    .dataframe thead th {\n",
       "        text-align: right;\n",
       "    }\n",
       "</style>\n",
       "<table border=\"1\" class=\"dataframe\">\n",
       "  <thead>\n",
       "    <tr style=\"text-align: right;\">\n",
       "      <th></th>\n",
       "      <th>venue</th>\n",
       "      <th>matches</th>\n",
       "    </tr>\n",
       "  </thead>\n",
       "  <tbody>\n",
       "    <tr>\n",
       "      <th>0</th>\n",
       "      <td>Eden Gardens</td>\n",
       "      <td>77</td>\n",
       "    </tr>\n",
       "    <tr>\n",
       "      <th>1</th>\n",
       "      <td>Wankhede Stadium</td>\n",
       "      <td>73</td>\n",
       "    </tr>\n",
       "    <tr>\n",
       "      <th>2</th>\n",
       "      <td>M Chinnaswamy Stadium</td>\n",
       "      <td>65</td>\n",
       "    </tr>\n",
       "    <tr>\n",
       "      <th>3</th>\n",
       "      <td>Feroz Shah Kotla</td>\n",
       "      <td>60</td>\n",
       "    </tr>\n",
       "    <tr>\n",
       "      <th>4</th>\n",
       "      <td>Rajiv Gandhi International Stadium, Uppal</td>\n",
       "      <td>49</td>\n",
       "    </tr>\n",
       "    <tr>\n",
       "      <th>5</th>\n",
       "      <td>MA Chidambaram Stadium, Chepauk</td>\n",
       "      <td>48</td>\n",
       "    </tr>\n",
       "    <tr>\n",
       "      <th>6</th>\n",
       "      <td>Sawai Mansingh Stadium</td>\n",
       "      <td>47</td>\n",
       "    </tr>\n",
       "    <tr>\n",
       "      <th>7</th>\n",
       "      <td>Dubai International Cricket Stadium</td>\n",
       "      <td>46</td>\n",
       "    </tr>\n",
       "    <tr>\n",
       "      <th>8</th>\n",
       "      <td>Punjab Cricket Association Stadium, Mohali</td>\n",
       "      <td>35</td>\n",
       "    </tr>\n",
       "    <tr>\n",
       "      <th>9</th>\n",
       "      <td>Wankhede Stadium, Mumbai</td>\n",
       "      <td>31</td>\n",
       "    </tr>\n",
       "  </tbody>\n",
       "</table>\n",
       "</div>"
      ],
      "text/plain": [
       "                                        venue matches\n",
       "0                                Eden Gardens      77\n",
       "1                            Wankhede Stadium      73\n",
       "2                       M Chinnaswamy Stadium      65\n",
       "3                            Feroz Shah Kotla      60\n",
       "4   Rajiv Gandhi International Stadium, Uppal      49\n",
       "5             MA Chidambaram Stadium, Chepauk      48\n",
       "6                      Sawai Mansingh Stadium      47\n",
       "7         Dubai International Cricket Stadium      46\n",
       "8  Punjab Cricket Association Stadium, Mohali      35\n",
       "9                    Wankhede Stadium, Mumbai      31"
      ]
     },
     "execution_count": 198,
     "metadata": {},
     "output_type": "execute_result"
    }
   ],
   "source": [
    "venue_df"
   ]
  },
  {
   "cell_type": "markdown",
   "id": "40e90446",
   "metadata": {},
   "source": [
    "# Most Valuable Player"
   ]
  },
  {
   "cell_type": "code",
   "execution_count": 199,
   "id": "f5f801a2",
   "metadata": {},
   "outputs": [],
   "source": [
    "mvp_ser = df2[\"Player_of_Match\"].value_counts()\n",
    "\n",
    "mvp_ten_df = pd.DataFrame(columns=[\"Player\", \"Wins\"])\n",
    "count = 0\n",
    "for items in mvp_ser.iteritems():\n",
    "    if count>9:\n",
    "        break\n",
    "    else:\n",
    "        temp_df2 = pd.DataFrame({\n",
    "            'Player':[items[0]],\n",
    "            'Wins':[items[1]]\n",
    "        })\n",
    "        mvp_ten_df = pd.concat([mvp_ten_df,temp_df2],axis=0,ignore_index=True)\n",
    "        count += 1    "
   ]
  },
  {
   "cell_type": "code",
   "execution_count": 200,
   "id": "6ab6ec3d",
   "metadata": {},
   "outputs": [
    {
     "data": {
      "text/html": [
       "<div>\n",
       "<style scoped>\n",
       "    .dataframe tbody tr th:only-of-type {\n",
       "        vertical-align: middle;\n",
       "    }\n",
       "\n",
       "    .dataframe tbody tr th {\n",
       "        vertical-align: top;\n",
       "    }\n",
       "\n",
       "    .dataframe thead th {\n",
       "        text-align: right;\n",
       "    }\n",
       "</style>\n",
       "<table border=\"1\" class=\"dataframe\">\n",
       "  <thead>\n",
       "    <tr style=\"text-align: right;\">\n",
       "      <th></th>\n",
       "      <th>Player</th>\n",
       "      <th>Wins</th>\n",
       "    </tr>\n",
       "  </thead>\n",
       "  <tbody>\n",
       "    <tr>\n",
       "      <th>0</th>\n",
       "      <td>AB de Villiers</td>\n",
       "      <td>25</td>\n",
       "    </tr>\n",
       "    <tr>\n",
       "      <th>1</th>\n",
       "      <td>CH Gayle</td>\n",
       "      <td>22</td>\n",
       "    </tr>\n",
       "    <tr>\n",
       "      <th>2</th>\n",
       "      <td>DA Warner</td>\n",
       "      <td>18</td>\n",
       "    </tr>\n",
       "    <tr>\n",
       "      <th>3</th>\n",
       "      <td>RG Sharma</td>\n",
       "      <td>18</td>\n",
       "    </tr>\n",
       "    <tr>\n",
       "      <th>4</th>\n",
       "      <td>MS Dhoni</td>\n",
       "      <td>17</td>\n",
       "    </tr>\n",
       "    <tr>\n",
       "      <th>5</th>\n",
       "      <td>YK Pathan</td>\n",
       "      <td>16</td>\n",
       "    </tr>\n",
       "    <tr>\n",
       "      <th>6</th>\n",
       "      <td>SR Watson</td>\n",
       "      <td>16</td>\n",
       "    </tr>\n",
       "    <tr>\n",
       "      <th>7</th>\n",
       "      <td>KA Pollard</td>\n",
       "      <td>14</td>\n",
       "    </tr>\n",
       "    <tr>\n",
       "      <th>8</th>\n",
       "      <td>SK Raina</td>\n",
       "      <td>14</td>\n",
       "    </tr>\n",
       "    <tr>\n",
       "      <th>9</th>\n",
       "      <td>V Kohli</td>\n",
       "      <td>14</td>\n",
       "    </tr>\n",
       "  </tbody>\n",
       "</table>\n",
       "</div>"
      ],
      "text/plain": [
       "           Player Wins\n",
       "0  AB de Villiers   25\n",
       "1        CH Gayle   22\n",
       "2       DA Warner   18\n",
       "3       RG Sharma   18\n",
       "4        MS Dhoni   17\n",
       "5       YK Pathan   16\n",
       "6       SR Watson   16\n",
       "7      KA Pollard   14\n",
       "8        SK Raina   14\n",
       "9         V Kohli   14"
      ]
     },
     "execution_count": 200,
     "metadata": {},
     "output_type": "execute_result"
    }
   ],
   "source": [
    "mvp_ten_df"
   ]
  },
  {
   "cell_type": "code",
   "execution_count": 201,
   "id": "78f68ccc",
   "metadata": {},
   "outputs": [
    {
     "data": {
      "image/png": "[encoded data removed]",
      "text/plain": [
       "<Figure size 720x432 with 1 Axes>"
      ]
     },
     "metadata": {
      "needs_background": "light"
     },
     "output_type": "display_data"
    }
   ],
   "source": [
    "plt.figure(figsize=(10,6))\n",
    "plt.title(\"Top Ten IPL Players\")\n",
    "sns.barplot(x='Wins', y='Player', data=mvp_ten_df, palette='Paired');"
   ]
  },
  {
   "cell_type": "code",
   "execution_count": 202,
   "id": "3f1430b7",
   "metadata": {},
   "outputs": [
    {
     "data": {
      "image/png": "[encoded data removed]",
      "text/plain": [
       "<Figure size 576x360 with 1 Axes>"
      ]
     },
     "metadata": {
      "needs_background": "light"
     },
     "output_type": "display_data"
    }
   ],
   "source": [
    "plt.figure(figsize=(8,5))\n",
    "plt.bar(list(df2['Player_of_Match'].value_counts()[0:6].keys()),list(df2['Player_of_Match'].value_counts()[0:6]),color='olive')\n",
    "plt.title('Player of Match')\n",
    "plt.show()"
   ]
  },
  {
   "cell_type": "markdown",
   "id": "7858c493",
   "metadata": {},
   "source": [
    "# Won the most number of player of matches in a season."
   ]
  },
  {
   "cell_type": "code",
   "execution_count": 242,
   "id": "b4acc7cc",
   "metadata": {},
   "outputs": [],
   "source": [
    "Player_of_Match_per_season = df2.groupby('Season')['Player_of_Match'].value_counts()"
   ]
  },
  {
   "cell_type": "code",
   "execution_count": 243,
   "id": "2a69f950",
   "metadata": {
    "scrolled": true
   },
   "outputs": [
    {
     "name": "stdout",
     "output_type": "stream",
     "text": [
      "((2008, 'SE Marsh'), 5)\n",
      "((2009, 'YK Pathan'), 3)\n",
      "((2010, 'SR Tendulkar'), 4)\n",
      "((2011, 'CH Gayle'), 6)\n",
      "((2012, 'CH Gayle'), 5)\n",
      "((2013, 'MEK Hussey'), 5)\n",
      "((2014, 'GJ Maxwell'), 4)\n",
      "((2015, 'DA Warner'), 4)\n",
      "((2016, 'V Kohli'), 5)\n",
      "((2017, 'BA Stokes'), 3)\n",
      "((2018, 'Rashid Khan'), 4)\n",
      "((2019, 'AD Russell'), 4)\n",
      "((2020, 'AB de Villiers'), 3)\n",
      "((2021, 'RD Gaikwad'), 4)\n",
      "((2022, 'Kuldeep Yadav'), 4)\n"
     ]
    }
   ],
   "source": [
    "year = 2008\n",
    "award_per_season_df = pd.DataFrame(columns=['Year', 'Team', 'Wins'])\n",
    "for items in Player_of_Match_per_season.iteritems():    \n",
    "    if items[0][0]==year:\n",
    "        print(items)\n",
    "        win_award = pd.DataFrame({\n",
    "            'Year': [items[0][0]],\n",
    "            'Team': [items[0][1]],\n",
    "            'Wins': [items[1]]\n",
    "        })\n",
    "        award_per_season_df = pd.concat([award_per_season_df,win_award],axis=0,ignore_index=True)\n",
    "        year += 1   "
   ]
  },
  {
   "cell_type": "code",
   "execution_count": 244,
   "id": "fc322d01",
   "metadata": {},
   "outputs": [],
   "source": [
    "award_per_season_df=award_per_season_df.sort_values('Wins', ascending=False).head(10)"
   ]
  },
  {
   "cell_type": "code",
   "execution_count": 245,
   "id": "e9dd320f",
   "metadata": {},
   "outputs": [
    {
     "data": {
      "text/html": [
       "<div>\n",
       "<style scoped>\n",
       "    .dataframe tbody tr th:only-of-type {\n",
       "        vertical-align: middle;\n",
       "    }\n",
       "\n",
       "    .dataframe tbody tr th {\n",
       "        vertical-align: top;\n",
       "    }\n",
       "\n",
       "    .dataframe thead th {\n",
       "        text-align: right;\n",
       "    }\n",
       "</style>\n",
       "<table border=\"1\" class=\"dataframe\">\n",
       "  <thead>\n",
       "    <tr style=\"text-align: right;\">\n",
       "      <th></th>\n",
       "      <th>Year</th>\n",
       "      <th>Player</th>\n",
       "      <th>Wins</th>\n",
       "    </tr>\n",
       "  </thead>\n",
       "  <tbody>\n",
       "    <tr>\n",
       "      <th>3</th>\n",
       "      <td>2011</td>\n",
       "      <td>CH Gayle</td>\n",
       "      <td>6</td>\n",
       "    </tr>\n",
       "    <tr>\n",
       "      <th>0</th>\n",
       "      <td>2008</td>\n",
       "      <td>SE Marsh</td>\n",
       "      <td>5</td>\n",
       "    </tr>\n",
       "    <tr>\n",
       "      <th>4</th>\n",
       "      <td>2012</td>\n",
       "      <td>CH Gayle</td>\n",
       "      <td>5</td>\n",
       "    </tr>\n",
       "    <tr>\n",
       "      <th>5</th>\n",
       "      <td>2013</td>\n",
       "      <td>MEK Hussey</td>\n",
       "      <td>5</td>\n",
       "    </tr>\n",
       "    <tr>\n",
       "      <th>8</th>\n",
       "      <td>2016</td>\n",
       "      <td>V Kohli</td>\n",
       "      <td>5</td>\n",
       "    </tr>\n",
       "    <tr>\n",
       "      <th>2</th>\n",
       "      <td>2010</td>\n",
       "      <td>SR Tendulkar</td>\n",
       "      <td>4</td>\n",
       "    </tr>\n",
       "    <tr>\n",
       "      <th>6</th>\n",
       "      <td>2014</td>\n",
       "      <td>GJ Maxwell</td>\n",
       "      <td>4</td>\n",
       "    </tr>\n",
       "    <tr>\n",
       "      <th>7</th>\n",
       "      <td>2015</td>\n",
       "      <td>DA Warner</td>\n",
       "      <td>4</td>\n",
       "    </tr>\n",
       "    <tr>\n",
       "      <th>10</th>\n",
       "      <td>2018</td>\n",
       "      <td>Rashid Khan</td>\n",
       "      <td>4</td>\n",
       "    </tr>\n",
       "    <tr>\n",
       "      <th>11</th>\n",
       "      <td>2019</td>\n",
       "      <td>AD Russell</td>\n",
       "      <td>4</td>\n",
       "    </tr>\n",
       "  </tbody>\n",
       "</table>\n",
       "</div>"
      ],
      "text/plain": [
       "    Year        Player Wins\n",
       "3   2011      CH Gayle    6\n",
       "0   2008      SE Marsh    5\n",
       "4   2012      CH Gayle    5\n",
       "5   2013    MEK Hussey    5\n",
       "8   2016       V Kohli    5\n",
       "2   2010  SR Tendulkar    4\n",
       "6   2014    GJ Maxwell    4\n",
       "7   2015     DA Warner    4\n",
       "10  2018   Rashid Khan    4\n",
       "11  2019    AD Russell    4"
      ]
     },
     "execution_count": 245,
     "metadata": {},
     "output_type": "execute_result"
    }
   ],
   "source": [
    "new_award_per_season_df"
   ]
  },
  {
   "cell_type": "code",
   "execution_count": 246,
   "id": "e2f97c70",
   "metadata": {},
   "outputs": [
    {
     "data": {
      "image/png": "[encoded data removed]",
      "text/plain": [
       "<Figure size 720x432 with 1 Axes>"
      ]
     },
     "metadata": {
      "needs_background": "light"
     },
     "output_type": "display_data"
    }
   ],
   "source": [
    "plt.figure(figsize=(10,6))\n",
    "plt.title(\"Total won most of the player of the matches in a season\")\n",
    "sns.barplot(x='Wins', y='Player', data=new_award_per_season_df, palette='Paired');"
   ]
  },
  {
   "cell_type": "markdown",
   "id": "b9e81f0a",
   "metadata": {},
   "source": [
    "# The most successful IPL team"
   ]
  },
  {
   "cell_type": "code",
   "execution_count": 208,
   "id": "1fe07d3c",
   "metadata": {},
   "outputs": [],
   "source": [
    "team_wins_ser = df2[\"WinningTeam\"].value_counts()\n",
    "team_wins_df = pd.DataFrame(columns=[\"Team\", \"Wins\"])\n",
    "for items in team_wins_ser.iteritems():\n",
    "    temp_df1 = pd.DataFrame({\n",
    "        'Team':[items[0]],\n",
    "        'Wins':[items[1]]\n",
    "    })\n",
    "    team_wins_df =pd.concat([team_wins_df,temp_df1],axis=0,ignore_index=True)"
   ]
  },
  {
   "cell_type": "code",
   "execution_count": 209,
   "id": "080a16af",
   "metadata": {},
   "outputs": [
    {
     "data": {
      "text/html": [
       "<div>\n",
       "<style scoped>\n",
       "    .dataframe tbody tr th:only-of-type {\n",
       "        vertical-align: middle;\n",
       "    }\n",
       "\n",
       "    .dataframe tbody tr th {\n",
       "        vertical-align: top;\n",
       "    }\n",
       "\n",
       "    .dataframe thead th {\n",
       "        text-align: right;\n",
       "    }\n",
       "</style>\n",
       "<table border=\"1\" class=\"dataframe\">\n",
       "  <thead>\n",
       "    <tr style=\"text-align: right;\">\n",
       "      <th></th>\n",
       "      <th>Team</th>\n",
       "      <th>Wins</th>\n",
       "    </tr>\n",
       "  </thead>\n",
       "  <tbody>\n",
       "    <tr>\n",
       "      <th>0</th>\n",
       "      <td>MI</td>\n",
       "      <td>131</td>\n",
       "    </tr>\n",
       "    <tr>\n",
       "      <th>1</th>\n",
       "      <td>CSK</td>\n",
       "      <td>121</td>\n",
       "    </tr>\n",
       "    <tr>\n",
       "      <th>2</th>\n",
       "      <td>KKR</td>\n",
       "      <td>114</td>\n",
       "    </tr>\n",
       "    <tr>\n",
       "      <th>3</th>\n",
       "      <td>RCB</td>\n",
       "      <td>109</td>\n",
       "    </tr>\n",
       "    <tr>\n",
       "      <th>4</th>\n",
       "      <td>RR</td>\n",
       "      <td>96</td>\n",
       "    </tr>\n",
       "  </tbody>\n",
       "</table>\n",
       "</div>"
      ],
      "text/plain": [
       "  Team Wins\n",
       "0   MI  131\n",
       "1  CSK  121\n",
       "2  KKR  114\n",
       "3  RCB  109\n",
       "4   RR   96"
      ]
     },
     "execution_count": 209,
     "metadata": {},
     "output_type": "execute_result"
    }
   ],
   "source": [
    "team_wins_df.head()"
   ]
  },
  {
   "cell_type": "code",
   "execution_count": 210,
   "id": "156171e4",
   "metadata": {},
   "outputs": [
    {
     "data": {
      "image/png": "[encoded data removed]",
      "text/plain": [
       "<Figure size 720x432 with 1 Axes>"
      ]
     },
     "metadata": {
      "needs_background": "light"
     },
     "output_type": "display_data"
    }
   ],
   "source": [
    "plt.figure(figsize=(10,6))\n",
    "plt.title(\"Total Victories of IPL Teams\")\n",
    "sns.barplot(x='Wins', y='Team', data=team_wins_df, palette='Paired');"
   ]
  },
  {
   "cell_type": "markdown",
   "id": "ac52a543",
   "metadata": {},
   "source": [
    "# The team that won the most number of toss"
   ]
  },
  {
   "cell_type": "code",
   "execution_count": 211,
   "id": "7ad5d125",
   "metadata": {},
   "outputs": [],
   "source": [
    "toss_ser = df2[\"TossWinner\"].value_counts()\n",
    "\n",
    "toss_wins_df = pd.DataFrame(columns=[\"Team\", \"Wins\"])\n",
    "for items in toss_ser.iteritems():\n",
    "    toss_df = pd.DataFrame({\n",
    "        'Team':[items[0]],\n",
    "        'Wins':[items[1]]\n",
    "    })\n",
    "    toss_wins_df =pd.concat([toss_wins_df,toss_df],axis=0,ignore_index=True)"
   ]
  },
  {
   "cell_type": "code",
   "execution_count": 212,
   "id": "dcc5ca8d",
   "metadata": {},
   "outputs": [
    {
     "data": {
      "text/html": [
       "<div>\n",
       "<style scoped>\n",
       "    .dataframe tbody tr th:only-of-type {\n",
       "        vertical-align: middle;\n",
       "    }\n",
       "\n",
       "    .dataframe tbody tr th {\n",
       "        vertical-align: top;\n",
       "    }\n",
       "\n",
       "    .dataframe thead th {\n",
       "        text-align: right;\n",
       "    }\n",
       "</style>\n",
       "<table border=\"1\" class=\"dataframe\">\n",
       "  <thead>\n",
       "    <tr style=\"text-align: right;\">\n",
       "      <th></th>\n",
       "      <th>Team</th>\n",
       "      <th>Wins</th>\n",
       "    </tr>\n",
       "  </thead>\n",
       "  <tbody>\n",
       "    <tr>\n",
       "      <th>0</th>\n",
       "      <td>MI</td>\n",
       "      <td>123</td>\n",
       "    </tr>\n",
       "    <tr>\n",
       "      <th>1</th>\n",
       "      <td>KKR</td>\n",
       "      <td>114</td>\n",
       "    </tr>\n",
       "    <tr>\n",
       "      <th>2</th>\n",
       "      <td>CSK</td>\n",
       "      <td>109</td>\n",
       "    </tr>\n",
       "    <tr>\n",
       "      <th>3</th>\n",
       "      <td>RCB</td>\n",
       "      <td>105</td>\n",
       "    </tr>\n",
       "    <tr>\n",
       "      <th>4</th>\n",
       "      <td>RR</td>\n",
       "      <td>99</td>\n",
       "    </tr>\n",
       "  </tbody>\n",
       "</table>\n",
       "</div>"
      ],
      "text/plain": [
       "  Team Wins\n",
       "0   MI  123\n",
       "1  KKR  114\n",
       "2  CSK  109\n",
       "3  RCB  105\n",
       "4   RR   99"
      ]
     },
     "execution_count": 212,
     "metadata": {},
     "output_type": "execute_result"
    }
   ],
   "source": [
    "toss_wins_df.head()"
   ]
  },
  {
   "cell_type": "code",
   "execution_count": 213,
   "id": "a4fd6a31",
   "metadata": {},
   "outputs": [
    {
     "data": {
      "image/png": "[encoded data removed]",
      "text/plain": [
       "<Figure size 720x432 with 1 Axes>"
      ]
     },
     "metadata": {
      "needs_background": "light"
     },
     "output_type": "display_data"
    }
   ],
   "source": [
    "plt.figure(figsize=(10,6))\n",
    "plt.title(\"Maximum Time Toss Won\")\n",
    "sns.barplot(x='Wins', y='Team', data=toss_wins_df, palette='Paired');"
   ]
  },
  {
   "cell_type": "markdown",
   "id": "8a812b14",
   "metadata": {},
   "source": [
    "# umpire has officiated the most number of IPL matches on-field"
   ]
  },
  {
   "cell_type": "code",
   "execution_count": 214,
   "id": "75e3577d",
   "metadata": {},
   "outputs": [],
   "source": [
    "umpire1_ser = df2['Umpire1'].value_counts()\n",
    "umpire2_ser = df2['Umpire2'].value_counts()"
   ]
  },
  {
   "cell_type": "code",
   "execution_count": 215,
   "id": "791dbd09",
   "metadata": {},
   "outputs": [],
   "source": [
    "Umpires=pd.concat([umpire1_ser,umpire2_ser],axis=1)"
   ]
  },
  {
   "cell_type": "code",
   "execution_count": 216,
   "id": "939d7a51",
   "metadata": {},
   "outputs": [
    {
     "data": {
      "text/html": [
       "<div>\n",
       "<style scoped>\n",
       "    .dataframe tbody tr th:only-of-type {\n",
       "        vertical-align: middle;\n",
       "    }\n",
       "\n",
       "    .dataframe tbody tr th {\n",
       "        vertical-align: top;\n",
       "    }\n",
       "\n",
       "    .dataframe thead th {\n",
       "        text-align: right;\n",
       "    }\n",
       "</style>\n",
       "<table border=\"1\" class=\"dataframe\">\n",
       "  <thead>\n",
       "    <tr style=\"text-align: right;\">\n",
       "      <th></th>\n",
       "      <th>Umpire1</th>\n",
       "      <th>Umpire2</th>\n",
       "    </tr>\n",
       "  </thead>\n",
       "  <tbody>\n",
       "    <tr>\n",
       "      <th>AK Chaudhary</th>\n",
       "      <td>95.0</td>\n",
       "      <td>16.0</td>\n",
       "    </tr>\n",
       "    <tr>\n",
       "      <th>HDPK Dharmasena</th>\n",
       "      <td>76.0</td>\n",
       "      <td>18.0</td>\n",
       "    </tr>\n",
       "    <tr>\n",
       "      <th>Asad Rauf</th>\n",
       "      <td>51.0</td>\n",
       "      <td>NaN</td>\n",
       "    </tr>\n",
       "    <tr>\n",
       "      <th>S Ravi</th>\n",
       "      <td>48.0</td>\n",
       "      <td>83.0</td>\n",
       "    </tr>\n",
       "    <tr>\n",
       "      <th>CB Gaffaney</th>\n",
       "      <td>47.0</td>\n",
       "      <td>22.0</td>\n",
       "    </tr>\n",
       "  </tbody>\n",
       "</table>\n",
       "</div>"
      ],
      "text/plain": [
       "                 Umpire1  Umpire2\n",
       "AK Chaudhary        95.0     16.0\n",
       "HDPK Dharmasena     76.0     18.0\n",
       "Asad Rauf           51.0      NaN\n",
       "S Ravi              48.0     83.0\n",
       "CB Gaffaney         47.0     22.0"
      ]
     },
     "execution_count": 216,
     "metadata": {},
     "output_type": "execute_result"
    }
   ],
   "source": [
    "Umpires.head()"
   ]
  },
  {
   "cell_type": "code",
   "execution_count": 217,
   "id": "75262049",
   "metadata": {},
   "outputs": [],
   "source": [
    "umpire_ser = Umpires.sum(axis=1)\n",
    "\n",
    "umpire_df = pd.DataFrame(columns=[\"umpire\", \"matches\"])\n",
    "\n",
    "for items in umpire_ser.iteritems():\n",
    "    temp_umpire_df = pd.DataFrame({\n",
    "        'umpire':[items[0]],\n",
    "        'matches':[items[1]]\n",
    "    })\n",
    "    umpire_df= pd.concat([temp_umpire_df,umpire_df],axis=0,ignore_index=True) "
   ]
  },
  {
   "cell_type": "code",
   "execution_count": 218,
   "id": "43528f40",
   "metadata": {},
   "outputs": [
    {
     "data": {
      "text/html": [
       "<div>\n",
       "<style scoped>\n",
       "    .dataframe tbody tr th:only-of-type {\n",
       "        vertical-align: middle;\n",
       "    }\n",
       "\n",
       "    .dataframe tbody tr th {\n",
       "        vertical-align: top;\n",
       "    }\n",
       "\n",
       "    .dataframe thead th {\n",
       "        text-align: right;\n",
       "    }\n",
       "</style>\n",
       "<table border=\"1\" class=\"dataframe\">\n",
       "  <thead>\n",
       "    <tr style=\"text-align: right;\">\n",
       "      <th></th>\n",
       "      <th>umpire</th>\n",
       "      <th>matches</th>\n",
       "    </tr>\n",
       "  </thead>\n",
       "  <tbody>\n",
       "    <tr>\n",
       "      <th>62</th>\n",
       "      <td>S Ravi</td>\n",
       "      <td>131.0</td>\n",
       "    </tr>\n",
       "    <tr>\n",
       "      <th>65</th>\n",
       "      <td>AK Chaudhary</td>\n",
       "      <td>111.0</td>\n",
       "    </tr>\n",
       "    <tr>\n",
       "      <th>64</th>\n",
       "      <td>HDPK Dharmasena</td>\n",
       "      <td>94.0</td>\n",
       "    </tr>\n",
       "    <tr>\n",
       "      <th>52</th>\n",
       "      <td>C Shamshuddin</td>\n",
       "      <td>88.0</td>\n",
       "    </tr>\n",
       "    <tr>\n",
       "      <th>55</th>\n",
       "      <td>Nitin Menon</td>\n",
       "      <td>83.0</td>\n",
       "    </tr>\n",
       "  </tbody>\n",
       "</table>\n",
       "</div>"
      ],
      "text/plain": [
       "             umpire matches\n",
       "62           S Ravi   131.0\n",
       "65     AK Chaudhary   111.0\n",
       "64  HDPK Dharmasena    94.0\n",
       "52    C Shamshuddin    88.0\n",
       "55      Nitin Menon    83.0"
      ]
     },
     "execution_count": 218,
     "metadata": {},
     "output_type": "execute_result"
    }
   ],
   "source": [
    "umpire_df.sort_values('matches', ascending=False).head()"
   ]
  },
  {
   "cell_type": "markdown",
   "id": "f4999512",
   "metadata": {},
   "source": [
    "# Which city has hosted the maximum number of IPL matches?"
   ]
  },
  {
   "cell_type": "code",
   "execution_count": 219,
   "id": "089701a4",
   "metadata": {},
   "outputs": [],
   "source": [
    "city_ser = df2['City'].value_counts()\n",
    "\n",
    "city_df = pd.DataFrame(columns=['City', 'Matches'])\n",
    "for items in city_ser.iteritems():\n",
    "    city_temp_df = pd.DataFrame({\n",
    "        'City':[items[0]],\n",
    "        'Matches':[items[1]]\n",
    "    })\n",
    "    city_df = pd.concat([city_df,city_temp_df],axis=0,ignore_index=True)"
   ]
  },
  {
   "cell_type": "code",
   "execution_count": 220,
   "id": "c02f1153",
   "metadata": {},
   "outputs": [
    {
     "data": {
      "text/html": [
       "<div>\n",
       "<style scoped>\n",
       "    .dataframe tbody tr th:only-of-type {\n",
       "        vertical-align: middle;\n",
       "    }\n",
       "\n",
       "    .dataframe tbody tr th {\n",
       "        vertical-align: top;\n",
       "    }\n",
       "\n",
       "    .dataframe thead th {\n",
       "        text-align: right;\n",
       "    }\n",
       "</style>\n",
       "<table border=\"1\" class=\"dataframe\">\n",
       "  <thead>\n",
       "    <tr style=\"text-align: right;\">\n",
       "      <th></th>\n",
       "      <th>City</th>\n",
       "      <th>Matches</th>\n",
       "    </tr>\n",
       "  </thead>\n",
       "  <tbody>\n",
       "    <tr>\n",
       "      <th>0</th>\n",
       "      <td>Mumbai</td>\n",
       "      <td>159</td>\n",
       "    </tr>\n",
       "    <tr>\n",
       "      <th>1</th>\n",
       "      <td>Kolkata</td>\n",
       "      <td>79</td>\n",
       "    </tr>\n",
       "    <tr>\n",
       "      <th>2</th>\n",
       "      <td>Delhi</td>\n",
       "      <td>78</td>\n",
       "    </tr>\n",
       "    <tr>\n",
       "      <th>3</th>\n",
       "      <td>Chennai</td>\n",
       "      <td>67</td>\n",
       "    </tr>\n",
       "    <tr>\n",
       "      <th>4</th>\n",
       "      <td>Bangalore</td>\n",
       "      <td>65</td>\n",
       "    </tr>\n",
       "  </tbody>\n",
       "</table>\n",
       "</div>"
      ],
      "text/plain": [
       "        City Matches\n",
       "0     Mumbai     159\n",
       "1    Kolkata      79\n",
       "2      Delhi      78\n",
       "3    Chennai      67\n",
       "4  Bangalore      65"
      ]
     },
     "execution_count": 220,
     "metadata": {},
     "output_type": "execute_result"
    }
   ],
   "source": [
    "city_df.head()"
   ]
  },
  {
   "cell_type": "code",
   "execution_count": 221,
   "id": "a9ecb835",
   "metadata": {},
   "outputs": [
    {
     "data": {
      "image/png": "[encoded data removed]",
      "text/plain": [
       "<Figure size 720x720 with 1 Axes>"
      ]
     },
     "metadata": {
      "needs_background": "light"
     },
     "output_type": "display_data"
    }
   ],
   "source": [
    "plt.figure(figsize=(10,10))\n",
    "plt.title(\"Cities that hosted IPL matches\")\n",
    "sns.barplot(x='Matches', y='City', data=city_df);"
   ]
  },
  {
   "cell_type": "code",
   "execution_count": 222,
   "id": "d4a0bd7e",
   "metadata": {},
   "outputs": [
    {
     "name": "stdout",
     "output_type": "stream",
     "text": [
      "The number of times the team winning toss have won: 489\n",
      "The probability of winning if won the toss: 0.51\n"
     ]
    }
   ],
   "source": [
    "win_count = 0\n",
    "for index, value in df2.iterrows():\n",
    "    if(value['TossWinner']==value['WinningTeam']):\n",
    "        win_count += 1\n",
    "\n",
    "print(f'The number of times the team winning toss have won: {win_count}')\n",
    "prob = win_count/len(df2)\n",
    "print('The probability of winning if won the toss: {:.2f}' .format(prob))    "
   ]
  },
  {
   "cell_type": "code",
   "execution_count": 272,
   "id": "ebf71724",
   "metadata": {},
   "outputs": [],
   "source": [
    "batting_first=df2[df2['WonBy']!='Wickets']"
   ]
  },
  {
   "cell_type": "code",
   "execution_count": 283,
   "id": "fa5d2857",
   "metadata": {},
   "outputs": [
    {
     "data": {
      "text/html": [
       "<div>\n",
       "<style scoped>\n",
       "    .dataframe tbody tr th:only-of-type {\n",
       "        vertical-align: middle;\n",
       "    }\n",
       "\n",
       "    .dataframe tbody tr th {\n",
       "        vertical-align: top;\n",
       "    }\n",
       "\n",
       "    .dataframe thead th {\n",
       "        text-align: right;\n",
       "    }\n",
       "</style>\n",
       "<table border=\"1\" class=\"dataframe\">\n",
       "  <thead>\n",
       "    <tr style=\"text-align: right;\">\n",
       "      <th></th>\n",
       "      <th>City</th>\n",
       "      <th>Season</th>\n",
       "      <th>Team1</th>\n",
       "      <th>Team2</th>\n",
       "      <th>Venue</th>\n",
       "      <th>TossWinner</th>\n",
       "      <th>TossDecision</th>\n",
       "      <th>SuperOver</th>\n",
       "      <th>WinningTeam</th>\n",
       "      <th>WonBy</th>\n",
       "      <th>Margin</th>\n",
       "      <th>method</th>\n",
       "      <th>Player_of_Match</th>\n",
       "      <th>Umpire1</th>\n",
       "      <th>Umpire2</th>\n",
       "    </tr>\n",
       "  </thead>\n",
       "  <tbody>\n",
       "    <tr>\n",
       "      <th>2</th>\n",
       "      <td>Kolkata</td>\n",
       "      <td>2022</td>\n",
       "      <td>RCB</td>\n",
       "      <td>LSG</td>\n",
       "      <td>Eden Gardens, Kolkata</td>\n",
       "      <td>LSG</td>\n",
       "      <td>field</td>\n",
       "      <td>N</td>\n",
       "      <td>RCB</td>\n",
       "      <td>Runs</td>\n",
       "      <td>14.0</td>\n",
       "      <td>NaN</td>\n",
       "      <td>RM Patidar</td>\n",
       "      <td>J Madanagopal</td>\n",
       "      <td>MA Gough</td>\n",
       "    </tr>\n",
       "    <tr>\n",
       "      <th>8</th>\n",
       "      <td>Navi Mumbai</td>\n",
       "      <td>2022</td>\n",
       "      <td>LSG</td>\n",
       "      <td>KKR</td>\n",
       "      <td>Dr DY Patil Sports Academy, Mumbai</td>\n",
       "      <td>LSG</td>\n",
       "      <td>bat</td>\n",
       "      <td>N</td>\n",
       "      <td>LSG</td>\n",
       "      <td>Runs</td>\n",
       "      <td>2.0</td>\n",
       "      <td>NaN</td>\n",
       "      <td>Q de Kock</td>\n",
       "      <td>R Pandit</td>\n",
       "      <td>YC Barde</td>\n",
       "    </tr>\n",
       "    <tr>\n",
       "      <th>9</th>\n",
       "      <td>Mumbai</td>\n",
       "      <td>2022</td>\n",
       "      <td>SRH</td>\n",
       "      <td>MI</td>\n",
       "      <td>Wankhede Stadium, Mumbai</td>\n",
       "      <td>MI</td>\n",
       "      <td>field</td>\n",
       "      <td>N</td>\n",
       "      <td>SRH</td>\n",
       "      <td>Runs</td>\n",
       "      <td>3.0</td>\n",
       "      <td>NaN</td>\n",
       "      <td>RA Tripathi</td>\n",
       "      <td>CB Gaffaney</td>\n",
       "      <td>N Pandit</td>\n",
       "    </tr>\n",
       "    <tr>\n",
       "      <th>10</th>\n",
       "      <td>Navi Mumbai</td>\n",
       "      <td>2022</td>\n",
       "      <td>Delhi Capitals</td>\n",
       "      <td>PK</td>\n",
       "      <td>Dr DY Patil Sports Academy, Mumbai</td>\n",
       "      <td>PK</td>\n",
       "      <td>field</td>\n",
       "      <td>N</td>\n",
       "      <td>Delhi Capitals</td>\n",
       "      <td>Runs</td>\n",
       "      <td>17.0</td>\n",
       "      <td>NaN</td>\n",
       "      <td>SN Thakur</td>\n",
       "      <td>GR Sadashiv Iyer</td>\n",
       "      <td>Nitin Menon</td>\n",
       "    </tr>\n",
       "    <tr>\n",
       "      <th>11</th>\n",
       "      <td>Mumbai</td>\n",
       "      <td>2022</td>\n",
       "      <td>RR</td>\n",
       "      <td>LSG</td>\n",
       "      <td>Brabourne Stadium, Mumbai</td>\n",
       "      <td>RR</td>\n",
       "      <td>bat</td>\n",
       "      <td>N</td>\n",
       "      <td>RR</td>\n",
       "      <td>Runs</td>\n",
       "      <td>24.0</td>\n",
       "      <td>NaN</td>\n",
       "      <td>TA Boult</td>\n",
       "      <td>PG Pathak</td>\n",
       "      <td>Tapan Sharma</td>\n",
       "    </tr>\n",
       "  </tbody>\n",
       "</table>\n",
       "</div>"
      ],
      "text/plain": [
       "           City  Season           Team1 Team2  \\\n",
       "2       Kolkata    2022             RCB   LSG   \n",
       "8   Navi Mumbai    2022             LSG   KKR   \n",
       "9        Mumbai    2022             SRH    MI   \n",
       "10  Navi Mumbai    2022  Delhi Capitals    PK   \n",
       "11       Mumbai    2022              RR   LSG   \n",
       "\n",
       "                                 Venue TossWinner TossDecision SuperOver  \\\n",
       "2                Eden Gardens, Kolkata        LSG        field         N   \n",
       "8   Dr DY Patil Sports Academy, Mumbai        LSG          bat         N   \n",
       "9             Wankhede Stadium, Mumbai         MI        field         N   \n",
       "10  Dr DY Patil Sports Academy, Mumbai         PK        field         N   \n",
       "11           Brabourne Stadium, Mumbai         RR          bat         N   \n",
       "\n",
       "       WinningTeam WonBy  Margin method Player_of_Match           Umpire1  \\\n",
       "2              RCB  Runs    14.0    NaN      RM Patidar     J Madanagopal   \n",
       "8              LSG  Runs     2.0    NaN       Q de Kock          R Pandit   \n",
       "9              SRH  Runs     3.0    NaN     RA Tripathi       CB Gaffaney   \n",
       "10  Delhi Capitals  Runs    17.0    NaN       SN Thakur  GR Sadashiv Iyer   \n",
       "11              RR  Runs    24.0    NaN        TA Boult         PG Pathak   \n",
       "\n",
       "         Umpire2  \n",
       "2       MA Gough  \n",
       "8       YC Barde  \n",
       "9       N Pandit  \n",
       "10   Nitin Menon  \n",
       "11  Tapan Sharma  "
      ]
     },
     "execution_count": 283,
     "metadata": {},
     "output_type": "execute_result"
    }
   ],
   "source": [
    "batting_first.head()"
   ]
  },
  {
   "cell_type": "code",
   "execution_count": 274,
   "id": "76777554",
   "metadata": {},
   "outputs": [
    {
     "data": {
      "image/png": "[encoded data removed]",
      "text/plain": [
       "<Figure size 360x360 with 1 Axes>"
      ]
     },
     "metadata": {
      "needs_background": "light"
     },
     "output_type": "display_data"
    }
   ],
   "source": [
    "plt.figure(figsize=(5,5))\n",
    "plt.hist(batting_first['Margin'])\n",
    "plt.title('Distrubution of runs')\n",
    "plt.xlabel('Runs')\n",
    "plt.show()"
   ]
  },
  {
   "cell_type": "code",
   "execution_count": 284,
   "id": "b1c8c853",
   "metadata": {},
   "outputs": [
    {
     "data": {
      "text/plain": [
       "MI                 68\n",
       "CSK                61\n",
       "RCB                50\n",
       "KKR                46\n",
       "KXIP               43\n",
       "RR                 39\n",
       "SRH                37\n",
       "DD                 25\n",
       "Deccan Chargers    18\n",
       "Delhi Capitals     16\n",
       "PK                  7\n",
       "LSG                 7\n",
       "RPS                 7\n",
       "PW                  6\n",
       "GT                  4\n",
       "KTK                 2\n",
       "GL                  1\n",
       "Name: WinningTeam, dtype: int64"
      ]
     },
     "execution_count": 284,
     "metadata": {},
     "output_type": "execute_result"
    }
   ],
   "source": [
    "batting_first['WinningTeam'].value_counts()"
   ]
  },
  {
   "cell_type": "code",
   "execution_count": 285,
   "id": "5cc53c84",
   "metadata": {},
   "outputs": [
    {
     "data": {
      "image/png": "[encoded data removed]",
      "text/plain": [
       "<Figure size 504x360 with 1 Axes>"
      ]
     },
     "metadata": {
      "needs_background": "light"
     },
     "output_type": "display_data"
    }
   ],
   "source": [
    "plt.figure(figsize=(7,5))\n",
    "plt.bar(list(batting_first['WinningTeam'].value_counts()[0:3].keys()),list(batting_first['WinningTeam'].value_counts()[0:3]),color=['yellow','blue','orange'])\n",
    "plt.title('Batting win match')\n",
    "plt.show()"
   ]
  },
  {
   "cell_type": "code",
   "execution_count": 291,
   "id": "27e17b5b",
   "metadata": {},
   "outputs": [
    {
     "data": {
      "image/png": "[encoded data removed]",
      "text/plain": [
       "<Figure size 504x504 with 1 Axes>"
      ]
     },
     "metadata": {},
     "output_type": "display_data"
    }
   ],
   "source": [
    "plt.figure(figsize=(7,7))\n",
    "plt.pie(list(batting_first['WinningTeam'].value_counts()),labels=list(batting_first['WinningTeam'].value_counts().keys()),autopct='%0.1f%%')\n",
    "plt.title('percentage of win match')\n",
    "plt.show()"
   ]
  },
  {
   "cell_type": "code",
   "execution_count": 292,
   "id": "b97741e5",
   "metadata": {},
   "outputs": [],
   "source": [
    "batting_second=df2[df2['TossDecision']!='field']"
   ]
  },
  {
   "cell_type": "code",
   "execution_count": 293,
   "id": "3edd3ef5",
   "metadata": {},
   "outputs": [
    {
     "data": {
      "text/html": [
       "<div>\n",
       "<style scoped>\n",
       "    .dataframe tbody tr th:only-of-type {\n",
       "        vertical-align: middle;\n",
       "    }\n",
       "\n",
       "    .dataframe tbody tr th {\n",
       "        vertical-align: top;\n",
       "    }\n",
       "\n",
       "    .dataframe thead th {\n",
       "        text-align: right;\n",
       "    }\n",
       "</style>\n",
       "<table border=\"1\" class=\"dataframe\">\n",
       "  <thead>\n",
       "    <tr style=\"text-align: right;\">\n",
       "      <th></th>\n",
       "      <th>City</th>\n",
       "      <th>Season</th>\n",
       "      <th>Team1</th>\n",
       "      <th>Team2</th>\n",
       "      <th>Venue</th>\n",
       "      <th>TossWinner</th>\n",
       "      <th>TossDecision</th>\n",
       "      <th>SuperOver</th>\n",
       "      <th>WinningTeam</th>\n",
       "      <th>WonBy</th>\n",
       "      <th>Margin</th>\n",
       "      <th>method</th>\n",
       "      <th>Player_of_Match</th>\n",
       "      <th>Umpire1</th>\n",
       "      <th>Umpire2</th>\n",
       "    </tr>\n",
       "  </thead>\n",
       "  <tbody>\n",
       "    <tr>\n",
       "      <th>0</th>\n",
       "      <td>Ahmedabad</td>\n",
       "      <td>2022</td>\n",
       "      <td>RR</td>\n",
       "      <td>GT</td>\n",
       "      <td>Narendra Modi Stadium, Ahmedabad</td>\n",
       "      <td>RR</td>\n",
       "      <td>bat</td>\n",
       "      <td>N</td>\n",
       "      <td>GT</td>\n",
       "      <td>Wickets</td>\n",
       "      <td>7.0</td>\n",
       "      <td>NaN</td>\n",
       "      <td>HH Pandya</td>\n",
       "      <td>CB Gaffaney</td>\n",
       "      <td>Nitin Menon</td>\n",
       "    </tr>\n",
       "    <tr>\n",
       "      <th>4</th>\n",
       "      <td>Mumbai</td>\n",
       "      <td>2022</td>\n",
       "      <td>SRH</td>\n",
       "      <td>PK</td>\n",
       "      <td>Wankhede Stadium, Mumbai</td>\n",
       "      <td>SRH</td>\n",
       "      <td>bat</td>\n",
       "      <td>N</td>\n",
       "      <td>PK</td>\n",
       "      <td>Wickets</td>\n",
       "      <td>5.0</td>\n",
       "      <td>NaN</td>\n",
       "      <td>Harpreet Brar</td>\n",
       "      <td>AK Chaudhary</td>\n",
       "      <td>NA Patwardhan</td>\n",
       "    </tr>\n",
       "    <tr>\n",
       "      <th>6</th>\n",
       "      <td>Mumbai</td>\n",
       "      <td>2022</td>\n",
       "      <td>CSK</td>\n",
       "      <td>RR</td>\n",
       "      <td>Brabourne Stadium, Mumbai</td>\n",
       "      <td>CSK</td>\n",
       "      <td>bat</td>\n",
       "      <td>N</td>\n",
       "      <td>RR</td>\n",
       "      <td>Wickets</td>\n",
       "      <td>5.0</td>\n",
       "      <td>NaN</td>\n",
       "      <td>R Ashwin</td>\n",
       "      <td>CB Gaffaney</td>\n",
       "      <td>NA Patwardhan</td>\n",
       "    </tr>\n",
       "    <tr>\n",
       "      <th>7</th>\n",
       "      <td>Mumbai</td>\n",
       "      <td>2022</td>\n",
       "      <td>GT</td>\n",
       "      <td>RCB</td>\n",
       "      <td>Wankhede Stadium, Mumbai</td>\n",
       "      <td>GT</td>\n",
       "      <td>bat</td>\n",
       "      <td>N</td>\n",
       "      <td>RCB</td>\n",
       "      <td>Wickets</td>\n",
       "      <td>8.0</td>\n",
       "      <td>NaN</td>\n",
       "      <td>V Kohli</td>\n",
       "      <td>KN Ananthapadmanabhan</td>\n",
       "      <td>GR Sadashiv Iyer</td>\n",
       "    </tr>\n",
       "    <tr>\n",
       "      <th>8</th>\n",
       "      <td>Navi Mumbai</td>\n",
       "      <td>2022</td>\n",
       "      <td>LSG</td>\n",
       "      <td>KKR</td>\n",
       "      <td>Dr DY Patil Sports Academy, Mumbai</td>\n",
       "      <td>LSG</td>\n",
       "      <td>bat</td>\n",
       "      <td>N</td>\n",
       "      <td>LSG</td>\n",
       "      <td>Runs</td>\n",
       "      <td>2.0</td>\n",
       "      <td>NaN</td>\n",
       "      <td>Q de Kock</td>\n",
       "      <td>R Pandit</td>\n",
       "      <td>YC Barde</td>\n",
       "    </tr>\n",
       "    <tr>\n",
       "      <th>...</th>\n",
       "      <td>...</td>\n",
       "      <td>...</td>\n",
       "      <td>...</td>\n",
       "      <td>...</td>\n",
       "      <td>...</td>\n",
       "      <td>...</td>\n",
       "      <td>...</td>\n",
       "      <td>...</td>\n",
       "      <td>...</td>\n",
       "      <td>...</td>\n",
       "      <td>...</td>\n",
       "      <td>...</td>\n",
       "      <td>...</td>\n",
       "      <td>...</td>\n",
       "      <td>...</td>\n",
       "    </tr>\n",
       "    <tr>\n",
       "      <th>944</th>\n",
       "      <td>Jaipur</td>\n",
       "      <td>2008</td>\n",
       "      <td>RR</td>\n",
       "      <td>KXIP</td>\n",
       "      <td>Sawai Mansingh Stadium</td>\n",
       "      <td>KXIP</td>\n",
       "      <td>bat</td>\n",
       "      <td>N</td>\n",
       "      <td>RR</td>\n",
       "      <td>Wickets</td>\n",
       "      <td>6.0</td>\n",
       "      <td>NaN</td>\n",
       "      <td>SR Watson</td>\n",
       "      <td>Aleem Dar</td>\n",
       "      <td>RB Tiffin</td>\n",
       "    </tr>\n",
       "    <tr>\n",
       "      <th>945</th>\n",
       "      <td>Kolkata</td>\n",
       "      <td>2008</td>\n",
       "      <td>KKR</td>\n",
       "      <td>Deccan Chargers</td>\n",
       "      <td>Eden Gardens</td>\n",
       "      <td>Deccan Chargers</td>\n",
       "      <td>bat</td>\n",
       "      <td>N</td>\n",
       "      <td>KKR</td>\n",
       "      <td>Wickets</td>\n",
       "      <td>5.0</td>\n",
       "      <td>NaN</td>\n",
       "      <td>DJ Hussey</td>\n",
       "      <td>BF Bowden</td>\n",
       "      <td>K Hariharan</td>\n",
       "    </tr>\n",
       "    <tr>\n",
       "      <th>946</th>\n",
       "      <td>Mumbai</td>\n",
       "      <td>2008</td>\n",
       "      <td>MI</td>\n",
       "      <td>RCB</td>\n",
       "      <td>Wankhede Stadium</td>\n",
       "      <td>MI</td>\n",
       "      <td>bat</td>\n",
       "      <td>N</td>\n",
       "      <td>RCB</td>\n",
       "      <td>Wickets</td>\n",
       "      <td>5.0</td>\n",
       "      <td>NaN</td>\n",
       "      <td>MV Boucher</td>\n",
       "      <td>SJ Davis</td>\n",
       "      <td>DJ Harper</td>\n",
       "    </tr>\n",
       "    <tr>\n",
       "      <th>947</th>\n",
       "      <td>Delhi</td>\n",
       "      <td>2008</td>\n",
       "      <td>DD</td>\n",
       "      <td>RR</td>\n",
       "      <td>Feroz Shah Kotla</td>\n",
       "      <td>RR</td>\n",
       "      <td>bat</td>\n",
       "      <td>N</td>\n",
       "      <td>DD</td>\n",
       "      <td>Wickets</td>\n",
       "      <td>9.0</td>\n",
       "      <td>NaN</td>\n",
       "      <td>MF Maharoof</td>\n",
       "      <td>Aleem Dar</td>\n",
       "      <td>GA Pratapkumar</td>\n",
       "    </tr>\n",
       "    <tr>\n",
       "      <th>948</th>\n",
       "      <td>Chandigarh</td>\n",
       "      <td>2008</td>\n",
       "      <td>KXIP</td>\n",
       "      <td>CSK</td>\n",
       "      <td>Punjab Cricket Association Stadium, Mohali</td>\n",
       "      <td>CSK</td>\n",
       "      <td>bat</td>\n",
       "      <td>N</td>\n",
       "      <td>CSK</td>\n",
       "      <td>Runs</td>\n",
       "      <td>33.0</td>\n",
       "      <td>NaN</td>\n",
       "      <td>MEK Hussey</td>\n",
       "      <td>MR Benson</td>\n",
       "      <td>SL Shastri</td>\n",
       "    </tr>\n",
       "  </tbody>\n",
       "</table>\n",
       "<p>351 rows × 15 columns</p>\n",
       "</div>"
      ],
      "text/plain": [
       "            City  Season Team1            Team2  \\\n",
       "0      Ahmedabad    2022    RR               GT   \n",
       "4         Mumbai    2022   SRH               PK   \n",
       "6         Mumbai    2022   CSK               RR   \n",
       "7         Mumbai    2022    GT              RCB   \n",
       "8    Navi Mumbai    2022   LSG              KKR   \n",
       "..           ...     ...   ...              ...   \n",
       "944       Jaipur    2008    RR             KXIP   \n",
       "945      Kolkata    2008   KKR  Deccan Chargers   \n",
       "946       Mumbai    2008    MI              RCB   \n",
       "947        Delhi    2008    DD               RR   \n",
       "948   Chandigarh    2008  KXIP              CSK   \n",
       "\n",
       "                                          Venue       TossWinner TossDecision  \\\n",
       "0              Narendra Modi Stadium, Ahmedabad               RR          bat   \n",
       "4                      Wankhede Stadium, Mumbai              SRH          bat   \n",
       "6                     Brabourne Stadium, Mumbai              CSK          bat   \n",
       "7                      Wankhede Stadium, Mumbai               GT          bat   \n",
       "8            Dr DY Patil Sports Academy, Mumbai              LSG          bat   \n",
       "..                                          ...              ...          ...   \n",
       "944                      Sawai Mansingh Stadium             KXIP          bat   \n",
       "945                                Eden Gardens  Deccan Chargers          bat   \n",
       "946                            Wankhede Stadium               MI          bat   \n",
       "947                            Feroz Shah Kotla               RR          bat   \n",
       "948  Punjab Cricket Association Stadium, Mohali              CSK          bat   \n",
       "\n",
       "    SuperOver WinningTeam    WonBy  Margin method Player_of_Match  \\\n",
       "0           N          GT  Wickets     7.0    NaN       HH Pandya   \n",
       "4           N          PK  Wickets     5.0    NaN   Harpreet Brar   \n",
       "6           N          RR  Wickets     5.0    NaN        R Ashwin   \n",
       "7           N         RCB  Wickets     8.0    NaN         V Kohli   \n",
       "8           N         LSG     Runs     2.0    NaN       Q de Kock   \n",
       "..        ...         ...      ...     ...    ...             ...   \n",
       "944         N          RR  Wickets     6.0    NaN       SR Watson   \n",
       "945         N         KKR  Wickets     5.0    NaN       DJ Hussey   \n",
       "946         N         RCB  Wickets     5.0    NaN      MV Boucher   \n",
       "947         N          DD  Wickets     9.0    NaN     MF Maharoof   \n",
       "948         N         CSK     Runs    33.0    NaN      MEK Hussey   \n",
       "\n",
       "                   Umpire1           Umpire2  \n",
       "0              CB Gaffaney       Nitin Menon  \n",
       "4             AK Chaudhary     NA Patwardhan  \n",
       "6              CB Gaffaney     NA Patwardhan  \n",
       "7    KN Ananthapadmanabhan  GR Sadashiv Iyer  \n",
       "8                 R Pandit          YC Barde  \n",
       "..                     ...               ...  \n",
       "944              Aleem Dar         RB Tiffin  \n",
       "945              BF Bowden       K Hariharan  \n",
       "946               SJ Davis         DJ Harper  \n",
       "947              Aleem Dar    GA Pratapkumar  \n",
       "948              MR Benson        SL Shastri  \n",
       "\n",
       "[351 rows x 15 columns]"
      ]
     },
     "execution_count": 293,
     "metadata": {},
     "output_type": "execute_result"
    }
   ],
   "source": [
    "batting_second"
   ]
  },
  {
   "cell_type": "code",
   "execution_count": 294,
   "id": "aaef61c0",
   "metadata": {},
   "outputs": [
    {
     "data": {
      "image/png": "[encoded data removed]",
      "text/plain": [
       "<Figure size 360x360 with 1 Axes>"
      ]
     },
     "metadata": {
      "needs_background": "light"
     },
     "output_type": "display_data"
    }
   ],
   "source": [
    "plt.figure(figsize=(5,5))\n",
    "plt.hist(batting_second['Margin'],bins=30)\n",
    "plt.title('Distubution run')\n",
    "plt.xlabel('Runs')\n",
    "plt.show()"
   ]
  },
  {
   "cell_type": "code",
   "execution_count": 295,
   "id": "bcf445af",
   "metadata": {},
   "outputs": [
    {
     "data": {
      "text/plain": [
       "CSK                59\n",
       "MI                 52\n",
       "KKR                42\n",
       "RR                 40\n",
       "RCB                35\n",
       "DD                 29\n",
       "SRH                25\n",
       "KXIP               24\n",
       "Deccan Chargers    14\n",
       "PW                  9\n",
       "Delhi Capitals      8\n",
       "GT                  5\n",
       "PK                  2\n",
       "LSG                 2\n",
       "RPS                 2\n",
       "GL                  2\n",
       "Name: WinningTeam, dtype: int64"
      ]
     },
     "execution_count": 295,
     "metadata": {},
     "output_type": "execute_result"
    }
   ],
   "source": [
    "batting_second['WinningTeam'].value_counts()"
   ]
  },
  {
   "cell_type": "code",
   "execution_count": 296,
   "id": "a78db361",
   "metadata": {},
   "outputs": [
    {
     "data": {
      "image/png": "[encoded data removed]",
      "text/plain": [
       "<Figure size 360x360 with 1 Axes>"
      ]
     },
     "metadata": {
      "needs_background": "light"
     },
     "output_type": "display_data"
    }
   ],
   "source": [
    "plt.figure(figsize=(5,5))\n",
    "plt.bar(list(batting_second['WinningTeam'].value_counts()[0:3].keys()),list(batting_second['WinningTeam'].value_counts()[0:3]),color=['yellow','blue','green'])\n",
    "plt.title('Second Batting win Team')\n",
    "plt.show()"
   ]
  },
  {
   "cell_type": "code",
   "execution_count": 297,
   "id": "d9bac0e3",
   "metadata": {},
   "outputs": [
    {
     "data": {
      "image/png": "[encoded data removed]",
      "text/plain": [
       "<Figure size 504x504 with 1 Axes>"
      ]
     },
     "metadata": {},
     "output_type": "display_data"
    }
   ],
   "source": [
    "plt.figure(figsize=(7,7))\n",
    "plt.pie(list(batting_second['WinningTeam'].value_counts()[0:3]),labels=list(batting_second['WinningTeam'].value_counts()[0:3].keys()),autopct='%0.1f%%')\n",
    "plt.title('Second Batting win Team')\n",
    "plt.show()"
   ]
  }
 ],
 "metadata": {
  "kernelspec": {
   "display_name": "Python 3 (ipykernel)",
   "language": "python",
   "name": "python3"
  },
  "language_info": {
   "codemirror_mode": {
    "name": "ipython",
    "version": 3
   },
   "file_extension": ".py",
   "mimetype": "text/x-python",
   "name": "python",
   "nbconvert_exporter": "python",
   "pygments_lexer": "ipython3",
   "version": "3.9.12"
  }
 },
 "nbformat": 4,
 "nbformat_minor": 5
}
